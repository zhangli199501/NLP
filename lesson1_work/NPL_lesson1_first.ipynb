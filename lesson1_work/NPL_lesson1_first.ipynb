{
 "cells": [
  {
   "cell_type": "code",
   "execution_count": 1,
   "metadata": {
    "ExecuteTime": {
     "end_time": "2018-11-12T09:26:44.084984Z",
     "start_time": "2018-11-12T09:26:39.157929Z"
    }
   },
   "outputs": [],
   "source": [
    "import numpy as np\n",
    "import networkx as nx\n",
    "import matplotlib.pyplot as plt\n",
    "import random\n",
    "\n",
    "%matplotlib inline"
   ]
  },
  {
   "cell_type": "markdown",
   "metadata": {},
   "source": [
    "# 最后一题"
   ]
  },
  {
   "cell_type": "code",
   "execution_count": 8,
   "metadata": {
    "ExecuteTime": {
     "end_time": "2018-11-09T02:16:52.190996Z",
     "start_time": "2018-11-09T02:16:52.187008Z"
    }
   },
   "outputs": [],
   "source": [
    "#定义语法内容\n",
    "grammar = \"\"\"\n",
    "sentence = adj noun verb adj noun2\n",
    "adj = adj_single 和 adj_single 的 | null\n",
    "adj_single = 漂亮  | 蓝色 | 好看\n",
    "adv = 安静地 | 静静地\n",
    "noun = 猫 | 女人 | 男人\n",
    "verb = adv 看着 | adv 坐着 \n",
    "noun2 = 桌子 | 皮球 \n",
    "\"\"\""
   ]
  },
  {
   "cell_type": "code",
   "execution_count": 93,
   "metadata": {
    "ExecuteTime": {
     "end_time": "2018-11-09T05:37:44.339706Z",
     "start_time": "2018-11-09T05:37:44.332751Z"
    }
   },
   "outputs": [],
   "source": [
    "# random.choice\n",
    "# 1、划分语法结构\n",
    "def build_grammar(grammar_str, split_sep='='):\n",
    "    grammar_pattern = {}\n",
    "    for sequence in grammar_str.split(sep='\\n'):\n",
    "        if sequence:\n",
    "            statement, define = sequence.split('=')\n",
    "            grammar_pattern[statement.strip()] = [\n",
    "                i.split() for i in define.split('|')\n",
    "            ]\n",
    "    return grammar_pattern"
   ]
  },
  {
   "cell_type": "code",
   "execution_count": 96,
   "metadata": {
    "ExecuteTime": {
     "end_time": "2018-11-09T05:39:49.781582Z",
     "start_time": "2018-11-09T05:39:49.777592Z"
    }
   },
   "outputs": [],
   "source": [
    "grammar_pattern = build_grammar(grammar)"
   ]
  },
  {
   "cell_type": "code",
   "execution_count": 104,
   "metadata": {
    "ExecuteTime": {
     "end_time": "2018-11-09T05:49:26.218244Z",
     "start_time": "2018-11-09T05:49:26.213249Z"
    }
   },
   "outputs": [
    {
     "data": {
      "text/plain": [
       "{'sentence': [['adj', 'noun', 'verb', 'adj', 'noun2']],\n",
       " 'adj': [['adj_single', '和', 'adj_single', '的'], ['null']],\n",
       " 'adj_single': [['漂亮'], ['蓝色'], ['好看']],\n",
       " 'adv': [['安静地'], ['静静地']],\n",
       " 'noun': [['猫'], ['女人'], ['男人']],\n",
       " 'verb': [['adv', '看着'], ['adv', '坐着']],\n",
       " 'noun2': [['桌子'], ['皮球']]}"
      ]
     },
     "execution_count": 104,
     "metadata": {},
     "output_type": "execute_result"
    }
   ],
   "source": [
    "grammar_pattern"
   ]
  },
  {
   "cell_type": "code",
   "execution_count": 111,
   "metadata": {
    "ExecuteTime": {
     "end_time": "2018-11-09T05:58:01.034920Z",
     "start_time": "2018-11-09T05:58:01.029924Z"
    }
   },
   "outputs": [],
   "source": [
    "#定义生成符合某声明的函数：\n",
    "def generate(grammar_pattern, target):\n",
    "    define = random.choice(grammar_pattern[target])\n",
    "    tokens = [\n",
    "        generate(grammar_pattern, i) if i in grammar_pattern else i\n",
    "        for i in define\n",
    "    ]\n",
    "    return ''.join([i for i in tokens if i != 'null'])"
   ]
  },
  {
   "cell_type": "code",
   "execution_count": 117,
   "metadata": {
    "ExecuteTime": {
     "end_time": "2018-11-09T05:58:16.040938Z",
     "start_time": "2018-11-09T05:58:16.035958Z"
    }
   },
   "outputs": [
    {
     "data": {
      "text/plain": [
       "'蓝色和好看的男人静静地看着蓝色和好看的皮球'"
      ]
     },
     "execution_count": 117,
     "metadata": {},
     "output_type": "execute_result"
    }
   ],
   "source": [
    "generate(grammar_pattern, 'sentence')"
   ]
  },
  {
   "cell_type": "markdown",
   "metadata": {},
   "source": [
    "# Search Based Intelligence"
   ]
  },
  {
   "cell_type": "code",
   "execution_count": 21,
   "metadata": {
    "ExecuteTime": {
     "end_time": "2018-11-12T09:48:22.735584Z",
     "start_time": "2018-11-12T09:48:22.731580Z"
    }
   },
   "outputs": [],
   "source": [
    "#定义无向图\n",
    "graph = {\n",
    "    'A' :'B B B C', \n",
    "    'B' : 'A C', \n",
    "    'C' : 'A B D E',\n",
    "    'D' : 'C G',\n",
    "    'E' : 'C F',\n",
    "    'F' : 'E',\n",
    "    'G' : 'D H',\n",
    "    'H' : 'G'\n",
    "}\n",
    "# networkx.Graph\n",
    "# networkx.draw"
   ]
  },
  {
   "cell_type": "code",
   "execution_count": 22,
   "metadata": {
    "ExecuteTime": {
     "end_time": "2018-11-12T09:48:23.075791Z",
     "start_time": "2018-11-12T09:48:22.990046Z"
    }
   },
   "outputs": [
    {
     "data": {
      "image/png": "[encoded data removed]",
      "text/plain": [
       "<Figure size 432x288 with 1 Axes>"
      ]
     },
     "metadata": {},
     "output_type": "display_data"
    }
   ],
   "source": [
    "for i in graph:\n",
    "    graph[i] = set(graph[i].split())\n",
    "\n",
    "graph_net = nx.Graph(graph)\n",
    "nx.draw(graph_net,with_labels=True)"
   ]
  },
  {
   "cell_type": "markdown",
   "metadata": {},
   "source": [
    "## BFS 广度优先搜索"
   ]
  },
  {
   "cell_type": "code",
   "execution_count": 23,
   "metadata": {
    "ExecuteTime": {
     "end_time": "2018-11-12T09:48:23.693399Z",
     "start_time": "2018-11-12T09:48:23.687390Z"
    }
   },
   "outputs": [
    {
     "name": "stdout",
     "output_type": "stream",
     "text": [
      "\t I am looking for A\n",
      "\t I am looking for B\n",
      "\t I am looking for C\n",
      "A has been seen\n",
      "C has been seen\n",
      "\t I am looking for E\n",
      "A has been seen\n",
      "\t I am looking for D\n",
      "B has been seen\n",
      "\t I am looking for F\n",
      "C has been seen\n",
      "\t I am looking for G\n",
      "C has been seen\n",
      "E has been seen\n",
      "D has been seen\n",
      "\t I am looking for H\n",
      "G has been seen\n"
     ]
    }
   ],
   "source": [
    "need_visited = ['A']\n",
    "had_visited = []\n",
    "# while need_visited:\n",
    "while need_visited:\n",
    "    node = need_visited.pop(0)\n",
    "    if node in had_visited:\n",
    "        print('{} has been seen'.format(node))\n",
    "        continue\n",
    "    else:\n",
    "        print('\\t I am looking for {}'.format(node))\n",
    "        had_visited.append(node)\n",
    "        need_visited += graph[node]"
   ]
  },
  {
   "cell_type": "markdown",
   "metadata": {},
   "source": [
    "## DFS 深度优先搜索"
   ]
  },
  {
   "cell_type": "code",
   "execution_count": 24,
   "metadata": {
    "ExecuteTime": {
     "end_time": "2018-11-12T09:48:24.847396Z",
     "start_time": "2018-11-12T09:48:24.841413Z"
    }
   },
   "outputs": [
    {
     "name": "stdout",
     "output_type": "stream",
     "text": [
      "\t I am looking for A\n",
      "\t I am looking for C\n",
      "\t I am looking for B\n",
      "C has been seen\n",
      "A has been seen\n",
      "\t I am looking for D\n",
      "C has been seen\n",
      "\t I am looking for G\n",
      "\t I am looking for H\n",
      "G has been seen\n",
      "D has been seen\n",
      "A has been seen\n",
      "\t I am looking for E\n",
      "C has been seen\n",
      "\t I am looking for F\n",
      "E has been seen\n",
      "B has been seen\n"
     ]
    }
   ],
   "source": [
    "need_visited = ['A']\n",
    "had_visited = []\n",
    "while need_visited:\n",
    "    node = need_visited.pop()\n",
    "    if node in had_visited:\n",
    "        print('{} has been seen'.format(node))\n",
    "        continue\n",
    "    else:\n",
    "        print('\\t I am looking for {}'.format(node))\n",
    "        had_visited.append(node)\n",
    "        need_visited += graph[node]"
   ]
  },
  {
   "cell_type": "markdown",
   "metadata": {},
   "source": [
    "## Repetition is the mother of evil"
   ]
  },
  {
   "cell_type": "code",
   "execution_count": 25,
   "metadata": {
    "ExecuteTime": {
     "end_time": "2018-11-12T09:48:26.280028Z",
     "start_time": "2018-11-12T09:48:26.187274Z"
    }
   },
   "outputs": [
    {
     "data": {
      "image/png": "[encoded data removed]",
      "text/plain": [
       "<Figure size 432x288 with 1 Axes>"
      ]
     },
     "metadata": {},
     "output_type": "display_data"
    }
   ],
   "source": [
    "#定义无向长图\n",
    "graph_long = {\n",
    "    '1': '2 7',\n",
    "    '2': '3',\n",
    "    '3': '4',\n",
    "    '4': '5',\n",
    "    '5': '6 10',\n",
    "    '7': '8',\n",
    "    '6': '5',\n",
    "    '8': '9',\n",
    "    '9': '10',\n",
    "    '10': '5 11',\n",
    "    '11': '12',\n",
    "    '12': '11',\n",
    "}\n",
    "\n",
    "for i in graph_long:\n",
    "    graph_long[i] = graph_long[i].split()\n",
    "\n",
    "graph_net = nx.Graph(graph_long)\n",
    "nx.draw(graph_net, with_labels=True)"
   ]
  },
  {
   "cell_type": "code",
   "execution_count": 29,
   "metadata": {
    "ExecuteTime": {
     "end_time": "2018-11-12T09:48:52.386514Z",
     "start_time": "2018-11-12T09:48:52.379532Z"
    }
   },
   "outputs": [],
   "source": [
    "def search(graph, concat_func):\n",
    "    had_seen = []\n",
    "    need_visited = ['1']\n",
    "    while need_visited:\n",
    "        node = need_visited.pop(0)\n",
    "        if node in had_seen:\n",
    "            print('{} has been seen'.format(node))\n",
    "            continue\n",
    "        else:\n",
    "            print('\\t I am looking for {}'.format(node))\n",
    "\n",
    "            had_seen.append(node)\n",
    "            new_visited = graph[node]\n",
    "            need_visited = concat_func(need_visited, new_visited)\n",
    "            \n",
    "def treat_new_discover_more_important(need_visited, new_visited):\n",
    "    return new_visited + need_visited\n",
    "\n",
    "def treat_already_discovered_more_important(need_visited, new_visited):\n",
    "    return need_visited + new_visited"
   ]
  },
  {
   "cell_type": "code",
   "execution_count": 30,
   "metadata": {
    "ExecuteTime": {
     "end_time": "2018-11-12T09:48:52.961350Z",
     "start_time": "2018-11-12T09:48:52.957342Z"
    }
   },
   "outputs": [
    {
     "name": "stdout",
     "output_type": "stream",
     "text": [
      "\t I am looking for 1\n",
      "\t I am looking for 2\n",
      "\t I am looking for 3\n",
      "\t I am looking for 4\n",
      "\t I am looking for 5\n",
      "\t I am looking for 6\n",
      "5 has been seen\n",
      "\t I am looking for 10\n",
      "5 has been seen\n",
      "\t I am looking for 11\n",
      "\t I am looking for 12\n",
      "11 has been seen\n",
      "\t I am looking for 7\n",
      "\t I am looking for 8\n",
      "\t I am looking for 9\n",
      "10 has been seen\n"
     ]
    }
   ],
   "source": [
    "search(graph_long, treat_new_discover_more_important)"
   ]
  },
  {
   "cell_type": "code",
   "execution_count": 31,
   "metadata": {
    "ExecuteTime": {
     "end_time": "2018-11-12T09:48:53.494470Z",
     "start_time": "2018-11-12T09:48:53.489485Z"
    }
   },
   "outputs": [
    {
     "name": "stdout",
     "output_type": "stream",
     "text": [
      "\t I am looking for 1\n",
      "\t I am looking for 2\n",
      "\t I am looking for 7\n",
      "\t I am looking for 3\n",
      "\t I am looking for 8\n",
      "\t I am looking for 4\n",
      "\t I am looking for 9\n",
      "\t I am looking for 5\n",
      "\t I am looking for 10\n",
      "\t I am looking for 6\n",
      "10 has been seen\n",
      "5 has been seen\n",
      "\t I am looking for 11\n",
      "5 has been seen\n",
      "\t I am looking for 12\n",
      "11 has been seen\n"
     ]
    }
   ],
   "source": [
    "search(graph_long, treat_already_discovered_more_important)"
   ]
  },
  {
   "cell_type": "code",
   "execution_count": 32,
   "metadata": {
    "ExecuteTime": {
     "end_time": "2018-11-12T09:50:47.843555Z",
     "start_time": "2018-11-12T09:50:47.839567Z"
    }
   },
   "outputs": [],
   "source": [
    "from functools import partial\n",
    "bfs = partial(search, concat_func=treat_already_discovered_more_important)\n",
    "dfs = partial(search, concat_func=treat_new_discover_more_important)"
   ]
  },
  {
   "cell_type": "code",
   "execution_count": 33,
   "metadata": {
    "ExecuteTime": {
     "end_time": "2018-11-12T09:50:55.736606Z",
     "start_time": "2018-11-12T09:50:55.731622Z"
    },
    "scrolled": true
   },
   "outputs": [
    {
     "name": "stdout",
     "output_type": "stream",
     "text": [
      "\t I am looking for 1\n",
      "\t I am looking for 2\n",
      "\t I am looking for 7\n",
      "\t I am looking for 3\n",
      "\t I am looking for 8\n",
      "\t I am looking for 4\n",
      "\t I am looking for 9\n",
      "\t I am looking for 5\n",
      "\t I am looking for 10\n",
      "\t I am looking for 6\n",
      "10 has been seen\n",
      "5 has been seen\n",
      "\t I am looking for 11\n",
      "5 has been seen\n",
      "\t I am looking for 12\n",
      "11 has been seen\n"
     ]
    }
   ],
   "source": [
    "bfs(graph_long)"
   ]
  },
  {
   "cell_type": "markdown",
   "metadata": {},
   "source": [
    "# Mapping"
   ]
  },
  {
   "cell_type": "code",
   "execution_count": 35,
   "metadata": {
    "ExecuteTime": {
     "end_time": "2018-11-12T09:52:18.717437Z",
     "start_time": "2018-11-12T09:52:18.713448Z"
    }
   },
   "outputs": [],
   "source": [
    "BJ = 'Beijing'\n",
    "SZ = 'Shenzhen'\n",
    "GZ = 'Guangzhou'\n",
    "WH = 'Wuhan'\n",
    "HLG = 'Heilongjiang'\n",
    "NY = 'New York City'\n",
    "CM = 'Chiangmai'\n",
    "SG = 'Singapore'"
   ]
  },
  {
   "cell_type": "code",
   "execution_count": 87,
   "metadata": {
    "ExecuteTime": {
     "end_time": "2018-11-12T11:40:30.217604Z",
     "start_time": "2018-11-12T11:40:30.211622Z"
    }
   },
   "outputs": [],
   "source": [
    "air_route = {\n",
    "    BJ : {SZ, GZ, WH, HLG, NY}, \n",
    "    GZ : {WH, BJ, CM, SG},\n",
    "    SZ : {BJ, SG},\n",
    "#     SG : {GZ, SZ},\n",
    "    WH : {BJ, GZ},\n",
    "    HLG : {BJ},\n",
    "    CM : {GZ},\n",
    "    NY : {BJ}\n",
    "}"
   ]
  },
  {
   "cell_type": "code",
   "execution_count": 88,
   "metadata": {
    "ExecuteTime": {
     "end_time": "2018-11-12T11:40:30.725046Z",
     "start_time": "2018-11-12T11:40:30.636114Z"
    }
   },
   "outputs": [
    {
     "data": {
      "image/png": "[encoded data removed]",
      "text/plain": [
       "<Figure size 432x288 with 1 Axes>"
      ]
     },
     "metadata": {},
     "output_type": "display_data"
    }
   ],
   "source": [
    "air_route_net = nx.Graph(air_route)\n",
    "nx.draw(air_route_net, with_labels=True)"
   ]
  },
  {
   "cell_type": "code",
   "execution_count": 104,
   "metadata": {
    "ExecuteTime": {
     "end_time": "2018-11-12T11:48:21.311148Z",
     "start_time": "2018-11-12T11:48:21.307159Z"
    }
   },
   "outputs": [],
   "source": [
    "# path,paths\n",
    "def search_destination(graph, start, destination):\n",
    "    had_seen = []\n",
    "    paths = [[start]]\n",
    "    chosen_paths = []\n",
    "    \n",
    "    while paths:\n",
    "        path = paths.pop(0)\n",
    "        frontier = path[-1]\n",
    "        if frontier in had_seen: \n",
    "            print(frontier) \n",
    "            continue\n",
    "\n",
    "        for city in graph[frontier]:\n",
    "            new_path = path + [city]\n",
    "            if destination == city: return new_path\n",
    "            \n",
    "            paths.append(new_path)\n",
    "        had_seen.append(frontier)\n",
    "\n",
    "    return chosen_paths"
   ]
  },
  {
   "cell_type": "code",
   "execution_count": 105,
   "metadata": {
    "ExecuteTime": {
     "end_time": "2018-11-12T11:48:21.503951Z",
     "start_time": "2018-11-12T11:48:21.498991Z"
    }
   },
   "outputs": [
    {
     "data": {
      "text/plain": [
       "['New York City', 'Beijing', 'Guangzhou', 'Chiangmai']"
      ]
     },
     "execution_count": 105,
     "metadata": {},
     "output_type": "execute_result"
    }
   ],
   "source": [
    "search_destination(air_route, NY, CM)"
   ]
  },
  {
   "cell_type": "code",
   "execution_count": 116,
   "metadata": {
    "ExecuteTime": {
     "end_time": "2018-11-12T11:49:46.449080Z",
     "start_time": "2018-11-12T11:49:46.445109Z"
    }
   },
   "outputs": [],
   "source": [
    "def draw_paths(cities): return ' ✈ '.join(cities)"
   ]
  },
  {
   "cell_type": "code",
   "execution_count": 117,
   "metadata": {
    "ExecuteTime": {
     "end_time": "2018-11-12T11:49:46.685287Z",
     "start_time": "2018-11-12T11:49:46.679302Z"
    }
   },
   "outputs": [
    {
     "data": {
      "text/plain": [
       "'New York City ✈ Beijing ✈ Guangzhou ✈ Chiangmai'"
      ]
     },
     "execution_count": 117,
     "metadata": {},
     "output_type": "execute_result"
    }
   ],
   "source": [
    "draw_paths(search_destination(air_route, NY, CM))"
   ]
  },
  {
   "cell_type": "code",
   "execution_count": null,
   "metadata": {},
   "outputs": [],
   "source": []
  }
 ],
 "metadata": {
  "kernelspec": {
   "display_name": "Python 3",
   "language": "python",
   "name": "python3"
  },
  "language_info": {
   "codemirror_mode": {
    "name": "ipython",
    "version": 3
   },
   "file_extension": ".py",
   "mimetype": "text/x-python",
   "name": "python",
   "nbconvert_exporter": "python",
   "pygments_lexer": "ipython3",
   "version": "3.7.0"
  },
  "toc": {
   "base_numbering": 1,
   "nav_menu": {},
   "number_sections": true,
   "sideBar": true,
   "skip_h1_title": false,
   "title_cell": "Table of Contents",
   "title_sidebar": "Contents",
   "toc_cell": false,
   "toc_position": {},
   "toc_section_display": true,
   "toc_window_display": true
  }
 },
 "nbformat": 4,
 "nbformat_minor": 2
}
