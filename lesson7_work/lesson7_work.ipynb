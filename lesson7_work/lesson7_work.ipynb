{
 "cells": [
  {
   "cell_type": "code",
   "execution_count": 23,
   "metadata": {},
   "outputs": [],
   "source": [
    "import os\n",
    "import re\n",
    "import time\n",
    "import jieba\n",
    "import numpy as np\n",
    "import networkx as nx\n",
    "import time\n",
    "\n",
    "from collections import defaultdict\n",
    "from spiders import PcbSpider\n",
    "from pagerank import PRIterator\n",
    "from pagerank import PRMapReduce\n",
    "from operator import and_\n",
    "from functools import reduce\n",
    "from scipy.spatial.distance import cosine\n",
    "from sklearn.feature_extraction.text import TfidfVectorizer"
   ]
  },
  {
   "cell_type": "markdown",
   "metadata": {},
   "source": [
    "# 获取页面内容"
   ]
  },
  {
   "cell_type": "code",
   "execution_count": 6,
   "metadata": {},
   "outputs": [],
   "source": [
    "def cut(string): \n",
    "    return ' '.join(jieba.cut(string))\n",
    "\n",
    "def text_clean(text):\n",
    "    return cut(' '.join(re.split('[^\\w]',text)))"
   ]
  },
  {
   "cell_type": "markdown",
   "metadata": {},
   "source": [
    "## 爬取数据并存入文件"
   ]
  },
  {
   "cell_type": "code",
   "execution_count": 15,
   "metadata": {
    "collapsed": true
   },
   "outputs": [
    {
     "name": "stdout",
     "output_type": "stream",
     "text": [
      "error: http://www.pcbbbs.com/forum.php?mod=viewthread&tid=279935&extra=page%3D4\n",
      "error: http://www.pcbbbs.com/forum.php?mod=viewthread&tid=246905&extra=page%3D1\n",
      "error: http://www.pcbbbs.com/forum.php?mod=viewthread&tid=276055&extra=page%3D1\n",
      "has been spend 3m\n",
      "has been spend 6m\n",
      "has been spend 9m\n",
      "error: http://www.pcbbbs.com/forum.php?mod=viewthread&tid=228994&extra=page%3D2\n",
      "error: http://www.pcbbbs.com/forum.php?mod=viewthread&tid=220579&extra=page%3D2\n",
      "has been spend 12m\n",
      "has been spend 15m\n",
      "error: http://www.pcbbbs.com/forum.php?mod=viewthread&tid=244305&extra=page%3D3\n",
      "has been spend 18m\n",
      "has been spend 21m\n",
      "has been spend 24m\n",
      "error: http://www.pcbbbs.com/forum.php?mod=viewthread&tid=266551&extra=page%3D3\n",
      "error: http://www.pcbbbs.com/forum.php?mod=viewthread&tid=258844&extra=page%3D5\n",
      "has been spend 27m\n",
      "error: http://www.pcbbbs.com/forum.php?mod=viewthread&tid=247588&extra=page%3D3\n",
      "has been spend 30m\n",
      "has been spend 33m\n",
      "has been spend 36m\n",
      "has been spend 39m\n",
      "has been spend 42m\n",
      "has been spend 45m\n",
      "has been spend 48m\n",
      "has been spend 51m\n",
      "error: http://www.pcbbbs.com/forum.php?mod=viewthread&tid=175493&extra=page%3D3\n",
      "error: http://www.pcbbbs.com/forum.php?mod=viewthread&tid=61220&extra=page%3D4\n",
      "error: http://www.pcbbbs.com/forum.php?mod=viewthread&tid=57535&extra=page%3D4\n",
      "error: http://www.pcbbbs.com/forum.php?mod=viewthread&tid=59207&extra=page%3D4\n",
      "error: http://www.pcbbbs.com/forum.php?mod=viewthread&tid=124980&extra=page%3D5\n",
      "has been spend 54m\n",
      "has been spend 57m\n",
      "has been spend 60m\n",
      "has been spend 63m\n",
      "error: http://www.pcbbbs.com/forum.php?mod=viewthread&tid=260575&extra=page%3D5\n",
      "error: http://www.pcbbbs.com/forum.php?mod=viewthread&tid=255972&extra=page%3D5\n",
      "has been spend 66m\n",
      "has been spend 69m\n",
      "has been spend 72m\n",
      "has been spend 75m\n",
      "has been spend 78m\n",
      "has been spend 81m\n",
      "error: http://www.pcbbbs.com/forum.php?mod=viewthread&tid=246243&extra=page%3D1\n",
      "has been spend 84m\n",
      "error: http://www.pcbbbs.com/forum.php?mod=viewthread&tid=247436&extra=page%3D2\n",
      "has been spend 87m\n",
      "error: http://www.pcbbbs.com/forum.php?mod=viewthread&tid=264409&extra=page%3D2\n",
      "has been spend 90m\n",
      "has been spend 93m\n",
      "has been spend 96m\n",
      "has been spend 99m\n",
      "has been spend 102m\n",
      "has been spend 105m\n",
      "error: http://www.pcbbbs.com/forum.php?mod=viewthread&tid=260196&extra=page%3D2\n",
      "has been spend 108m\n",
      "has been spend 111m\n",
      "has been spend 114m\n",
      "error: http://www.pcbbbs.com/forum.php?mod=viewthread&tid=251525&extra=page%3D5\n",
      "has been spend 117m\n",
      "has been spend 120m\n",
      "has been spend 123m\n",
      "has been spend 126m\n",
      "has been spend 129m\n",
      "has been spend 132m\n",
      "has been spend 135m\n",
      "has been spend 138m\n"
     ]
    }
   ],
   "source": [
    "pcbspider = PcbSpider()\n",
    "theme_urls = pcbspider.get_theme_urls()\n",
    "content = defaultdict()\n",
    "start_time = time.time()\n",
    "n = 1\n",
    "\n",
    "file_path = os.path.join('../data/', 'PcbSpiderData_index.txt')\n",
    "with open(file_path, 'w', encoding='gbk') as fi:\n",
    "    for theme_url in theme_urls:\n",
    "        post_urls = pcbspider.get_more_post_urls(theme_url)\n",
    "        for post_url in post_urls:\n",
    "            try:\n",
    "                post_contents = pcbspider.get_more_post_content(post_url)\n",
    "                content[post_url] = [text_clean(post_contents[0]), post_contents[1]]\n",
    "                fi.writelines(content)\n",
    "            except:\n",
    "                print('error: {}'.format(post_url))\n",
    "\n",
    "        if (time.time() - start_time) // 180 > n:\n",
    "            print('has been spend {} minutes'.format(\n",
    "                n*3))\n",
    "            n += 1"
   ]
  },
  {
   "cell_type": "markdown",
   "metadata": {},
   "source": [
    "## 加载文件"
   ]
  },
  {
   "cell_type": "code",
   "execution_count": 8,
   "metadata": {},
   "outputs": [],
   "source": [
    "file_path_index = os.path.join('../data/', 'PcbSpiderData_index.txt')\n",
    "with open(file_path_index, encoding='gbk') as fi:\n",
    "    spiderdata_index = eval(fi.readlines()[0])\n",
    "\n",
    "# spiderdata_index结构：key为当前网页链接，value为[str,list]，str为文本内容，list为跳转链接"
   ]
  },
  {
   "cell_type": "code",
   "execution_count": 24,
   "metadata": {},
   "outputs": [],
   "source": [
    "corpus = []\n",
    "# 将链接与位置记录下来，可以通过索引快速找到链接\n",
    "link_idx = defaultdict()\n",
    "idx = 0\n",
    "for key in spiderdata_index:\n",
    "    link_idx[idx] = key\n",
    "    corpus.append(cut(spiderdata_index[key][0]))\n",
    "    idx += 1"
   ]
  },
  {
   "cell_type": "markdown",
   "metadata": {},
   "source": [
    "# 训练TFIDF模型"
   ]
  },
  {
   "cell_type": "code",
   "execution_count": 10,
   "metadata": {},
   "outputs": [],
   "source": [
    "# 训练tfidf模型\n",
    "vectorizer = TfidfVectorizer()\n",
    "tfidf = vectorizer.fit_transform(corpus)\n",
    "# 转置，使词向量变成索引\n",
    "transposed_tfidf = tfidf.transpose() \n",
    "transposed_tfidf_array = transposed_tfidf.toarray()"
   ]
  },
  {
   "cell_type": "code",
   "execution_count": 11,
   "metadata": {},
   "outputs": [],
   "source": [
    "def get_word_id(word):\n",
    "    return vectorizer.vocabulary_.get(word)\n",
    "\n",
    "def get_candidates_ids(string):\n",
    "    return [get_word_id(word) for word in cut(string).split()]\n",
    "\n",
    "def document_cols(word_idx):\n",
    "    return np.where(transposed_tfidf_array[word_idx])[0]\n",
    "\n",
    "def and_operation(arrays):\n",
    "    return reduce(and_, arrays)\n",
    "\n",
    "def keyword_bold(query, input_str):\n",
    "    pattern = re.compile('({})'.format('|'.join(cut(query).split())))\n",
    "    return pattern.sub(repl='** \\g<1> ** ',string=input_str)\n",
    "\n",
    "def search_enginer(query):\n",
    "#     求取查询语句分词后在模型中对应的文档id\n",
    "    candidates_ids = get_candidates_ids(query)\n",
    "    document = [set(document_cols(candidate))for candidate in candidates_ids]\n",
    "    retrieval_documents = and_operation(document)\n",
    "    \n",
    "#     查询的语句在模型中转化为向量，根据查询语句和内容相似程度倒序排列\n",
    "    query_vector = vectorizer.transform([cut(query)]).toarray()[0]\n",
    "    vector_with_ids = [(tfidf[doc_idx], doc_idx) for doc_idx in retrieval_documents]\n",
    "    sorted_vector_with_ids = sorted(vector_with_ids, key=lambda x:cosine(x[0].toarray(),query_vector), reverse=True)\n",
    "    \n",
    "    for vector_with_id in sorted_vector_with_ids:\n",
    "        output = keyword_bold(query, corpus[vector_with_id[1]])\n",
    "        yield ''.join(output.split())"
   ]
  },
  {
   "cell_type": "code",
   "execution_count": 12,
   "metadata": {},
   "outputs": [
    {
     "name": "stdout",
     "output_type": "stream",
     "text": [
      "done!\n"
     ]
    }
   ],
   "source": [
    "with open('../data/output/sz_result.md','w') as fi:\n",
    "    for i, document in enumerate(search_enginer('正确理解 器件镀金厚度单位')):\n",
    "        fi.write('##### search result {}\\n'.format(i))\n",
    "        fi.write(document+'\\n')\n",
    "    print('done!')"
   ]
  },
  {
   "cell_type": "code",
   "execution_count": 15,
   "metadata": {},
   "outputs": [
    {
     "name": "stdout",
     "output_type": "stream",
     "text": [
      "##### search result 0\n",
      "\n",
      "查看11538回复14置顶精华贴部分汇总按发布时间排序_20130922复制链接wanghanqwanghanq当前离线积分1713178兑换点点声望度金钱元银行存款元贡献度精华电梯直达1发表于2013922102354只看该作者倒序浏览阅读模式pcbmarginright0本帖最后由wanghanq于2018422326编辑备注此类汇总可能的弊病论坛改版导致主题帖链接地址失效故当链接地址失效时可通过站内搜索引擎重新定位地址置顶1来是希望更多的网友看到并参与话题2来是对楼主表示鼓励其他主题帖中的广告信息可能会误导网友误以为是论坛推广行为参与的网友尽可能避免在主题帖中发布广告信息非论坛自身的广告信息再如百度那些用钱来衡量排名顺序的信息建议网友酌情考虑是否选择并信任欢迎网友发布原创文章只是不希望您发布原创文章的主要目的是为发布推广信息有前劲无后劲哆啦梦发表于201024080500含个人信息酌情考虑2010新年献礼2009Layout鲫鱼塘宝典全集httpwwwpcbbbscomforumphpmodviewthreadtid217048fromuid63313此帖中下载地址已经失效相关内容下载当前可参关联帖内的下载地址关联贴2012元旦献礼Layout鲫鱼塘宝典2012元旦篇httpwwwpcbbbscomforumphpmodviewthreadtid243350fromuid63313了解些背景我不是高手我只是热衷于分享layout鲫鱼塘201203011650很长一段时间因为网友看到我发的原创贴子以为我是高手其实是不是高手自己心里知道我平时工作中找到一些方法软件使用经验喜欢写下来以防忘记了感觉可能对同行有所帮助也就发到网上去了可能这些方法不会用很多次但是有时用一次也可能省不少时间我为什么要把这些资料分享出来呢可能有人说就是臭显摆呗这样说其实是高在抬我因为就这些资料有什么好显摆的在如今金钱至少的社会有钱才能显摆别的就不用说什么了虽然我不是想显摆什么但是我想把自己的经验和方法分享出来总不能说有错吧人类社会之所以发展得这么快不就是我们学习了先人的经验吗当然我的经验无法跟先人的智慧相比但我也想尽自己的绵薄之力人活一世总要为这个世界做点什么这并不是什么高尚的想法是社会的进步和发展需要我们这样做虽然我个人的力量很微弱但不是有那么一句话众人拾柴火焰高吗我不是高手我只是热衷于分享ahzss81发表于20101214133922多层板PCB设计教程完整版资料转载置顶早期资料httpwwwpcbbbscomforumphpmodviewthreadtid228444fromuid63313吴鸣发表于2011523004246利用PCBMatrixSymbolWizard和ExcelSmartGridInsert快速创建SymbolforAltiumhttpwwwpcbbbscomforumphpmodviewthreadtid235162fromuid63313ding86361953发表于2011727091858好书推荐印制电路板PCB设计技术与实践httpwwwpcbbbscomforumphpmodviewthreadtid238247fromuid63313wanghanq发表于2012513155936给初学33答非所问杂乱汇总贴鱼渔提问的艺术httpwwwpcbbbscomforumphpmodviewthreadtid245988fromuid63313关联贴给初学31offgrid不值得困惑初学者的警告_中国印制电路行业排行榜httpwwwpcbbbscomforumphpmodviewthreadtid246905fromuid63313给初学32Altium经典视频教程Altium免费提供httpwwwpcbbbscomforumphpmodviewthreadtid245009fromuid63313altium视频地址再次补充说明如何使用多个监视器httpwwwpcbbbscomforumphpmodviewthreadtid260131fromuid63313给初学33答非所问杂乱汇总贴鱼渔提问的艺术httpwwwpcbbbscomforumphpmodviewthreadtid245988fromuid63313ProtelAltium文章观后感分享探讨汇总收集帖httpwwwpcbbbscomforumphpmodviewthreadtid256501fromuid63313转载比较完整的PROTEL最新版本ALTIUM上海培训资料共享_20120815_600Mhttpwwwpcbbbscomforumphpmodviewthreadtid256342fromuid63313**正确理解****器件****镀金****厚度****单位**μμm或uum迈mai谬miuhttpwwwpcbbbscomforumphpmodviewthreadtid256274fromuid63313分享3D库免费下载地址httpwwwpcbbbscomforumphpmodviewthreadtid217255fromuid63313zhengzy发表于20121023100351原创AltiumdesignerPCB画板速成教材httpwwwpcbbbscomforumphpmodviewthreadtid251712fromuid63313JIMDENG_eda365ZHENGZY是我AD10入门师傅也可以出版一本AD13实战攻略姐妹篇他那本ADPCB速成教材写得也很有水平一本很好的工具书关联帖子jimmy版主新书pads95实战攻略和高速pcb设计发布通告httpwwweda365comforumphpmodviewthreadtid92417fromuid4169liucongok发表于20121023170151推荐覆铜规则设置_适合初学者查看httpwwwpcbbbscomforumphpmodviewthreadtid251750fromuid63313黑驴蹄子发表于20121025165647上任第一天PCBLayout图文教程终结版AltiumcadencePADS图文教程httpwwwpcbbbscomforumphpmodviewthreadtid251814fromuid63313zhengzy发表于20121113200556含个人信息酌情考虑免费PCB设计QA检查服务httpwwwpcbbbscomforumphpmodviewthreadtid253990fromuid63313PCB布局走线的一点建议httpwwwpcbbbscomforumphpmodviewthreadtid259362fromuid63313zhengzy发表于2013326160428含个人信息酌情考虑原创整理Altium常用3D设计封装库httpwwwpcbbbscomforumphpmodviewthreadtid256009fromuid63313JenyXu发表于2013521184400含个人信息酌情考虑原创之AD教程专用贴陆续更新中httpwwwpcbbbscomforumphpmodviewthreadtid256773fromuid63313JenyXu发表于2013522225531含个人信息酌情考虑免费DFM可制造性检查申请专用贴httpwwwpcbbbscomforumphpmodviewthreadtid256791fromuid63313JenyXu发表于2013614213539本帖最后由wanghanq于2018422326编辑备注此类汇总可能的弊病论坛改版导致主题帖链接地址失效故当链接地址失效时可通过站内搜索引擎重新定位地址置顶1来是希望更多的网友看到并参与话题2来是对楼主表示鼓励其他主题帖中的广告信息可能会误导网友误以为是论坛推广行为参与的网友尽可能避免在主题帖中发布广告信息非论坛自身的广告信息再如百度那些用钱来衡量排名顺序的信息建议网友酌情考虑是否选择并信任欢迎网友发布原创文章只是不希望您发布原创文章的主要目的是为发布推广信息有前劲无后劲哆啦梦发表于201024080500含个人信息酌情考虑2010新年献礼2009Layout鲫鱼塘宝典全集httpwwwpcbbbscomforumphpmodviewthreadtid217048fromuid63313此帖中下载地址已经失效相关内容下载当前可参关联帖内的下载地址关联贴2012元旦献礼Layout鲫鱼塘宝典2012元旦篇httpwwwpcbbbscomforumphpmodviewthreadtid243350fromuid63313了解些背景我不是高手我只是热衷于分享layout鲫鱼塘201203011650很长一段时间因为网友看到我发的原创贴子以为我是高手其实是不是高手自己心里知道我平时工作中找到一些方法软件使用经验喜欢写下来以防忘记了感觉可能对同行有所帮助也就发到网上去了可能这些方法不会用很多次但是有时用一次也可能省不少时间我为什么要把这些资料分享出来呢可能有人说就是臭显摆呗这样说其实是高在抬我因为就这些资料有什么好显摆的在如今金钱至少的社会有钱才能显摆别的就不用说什么了虽然我不是想显摆什么但是我想把自己的经验和方法分享出来总不能说有错吧人类社会之所以发展得这么快不就是我们学习了先人的经验吗当然我的经验无法跟先人的智慧相比但我也想尽自己的绵薄之力人活一世总要为这个世界做点什么这并不是什么高尚的想法是社会的进步和发展需要我们这样做虽然我个人的力量很微弱但不是有那么一句话众人拾柴火焰高吗我不是高手我只是热衷于分享ahzss81发表于20101214133922多层板PCB设计教程完整版资料转载置顶早期资料httpwwwpcbbbscomforumphpmodviewthreadtid228444fromuid63313吴鸣发表于2011523004246利用PCBMatrixSymbolWizard和ExcelSmartGridInsert快速创建SymbolforAltiumhttpwwwpcbbbscomforumphpmodviewthreadtid235162fromuid63313ding86361953发表于2011727091858好书推荐印制电路板PCB设计技术与实践httpwwwpcbbbscomforumphpmodviewthreadtid238247fromuid63313wanghanq发表于2012513155936给初学33答非所问杂乱汇总贴鱼渔提问的艺术httpwwwpcbbbscomforumphpmodviewthreadtid245988fromuid63313关联贴给初学31offgrid不值得困惑初学者的警告_中国印制电路行业排行榜httpwwwpcbbbscomforumphpmodviewthreadtid246905fromuid63313给初学32Altium经典视频教程Altium免费提供httpwwwpcbbbscomforumphpmodviewthreadtid245009fromuid63313altium视频地址再次补充说明如何使用多个监视器httpwwwpcbbbscomforumphpmodviewthreadtid260131fromuid63313给初学33答非所问杂乱汇总贴鱼渔提问的艺术httpwwwpcbbbscomforumphpmodviewthreadtid245988fromuid63313ProtelAltium文章观后感分享探讨汇总收集帖httpwwwpcbbbscomforumphpmodviewthreadtid256501fromuid63313转载比较完整的PROTEL最新版本ALTIUM上海培训资料共享_20120815_600Mhttpwwwpcbbbscomforumphpmodviewthreadtid256342fromuid63313**正确理解****器件****镀金****厚度****单位**μμm或uum迈mai谬miuhttpwwwpcbbbscomforumphpmodviewthreadtid256274fromuid63313分享3D库免费下载地址httpwwwpcbbbscomforumphpmodviewthreadtid217255fromuid63313zhengzy发表于20121023100351原创AltiumdesignerPCB画板速成教材httpwwwpcbbbscomforumphpmodviewthreadtid251712fromuid63313JIMDENG_eda365ZHENGZY是我AD10入门师傅也可以出版一本AD13实战攻略姐妹篇他那本ADPCB速成教材写得也很有水平一本很好的工具书关联帖子jimmy版主新书pads95实战攻略和高速pcb设计发布通告httpwwweda365comforumphpmodviewthreadtid92417fromuid4169liucongok发表于20121023170151推荐覆铜规则设置_适合初学者查看httpwwwpcbbbscomforumphpmodviewthreadtid251750fromuid63313黑驴蹄子发表于20121025165647上任第一天PCBLayout图文教程终结版AltiumcadencePADS图文教程httpwwwpcbbbscomforumphpmodviewthreadtid251814fromuid63313zhengzy发表于20121113200556含个人信息酌情考虑免费PCB设计QA检查服务httpwwwpcbbbscomforumphpmodviewthreadtid253990fromuid63313PCB布局走线的一点建议httpwwwpcbbbscomforumphpmodviewthreadtid259362fromuid63313zhengzy发表于2013326160428含个人信息酌情考虑原创整理Altium常用3D设计封装库httpwwwpcbbbscomforumphpmodviewthreadtid256009fromuid63313JenyXu发表于2013521184400含个人信息酌情考虑原创之AD教程专用贴陆续更新中httpwwwpcbbbscomforumphpmodviewthreadtid256773fromuid63313JenyXu发表于2013522225531含个人信息酌情考虑免费DFM可制造性检查申请专用贴httpwwwpcbbbscomforumphpmodviewthreadtid256791fromuid63313JenyXu发表于2013614213539楼主wanghanq置顶精华贴部分汇总按发布时间排序_20130922复制链接wanghanqwanghanq当前离线积分1713178兑换点点声望度金钱元银行存款元贡献度精华11楼主发表于2014831100821只看该作者pcbmarginright0备用备用回复使用道具举报checkmgcmnpost_2244142wanghanqwanghanq当前离线积分1713178兑换点点声望度金钱元银行存款元贡献度精华12楼主发表于2014831100938只看该作者备用备用72815创建于2013811varcpro_idu1342694回复使用道具举报checkmgcmnpost_2244143iscloncomiscloncom当前离线积分25兑换点点声望度金钱元银行存款元贡献度精华新手上路积分25距离下一级还需75积分13发表于2016223180639只看该作者好貼签名SolidWorks评分参与人数1金钱200兑换点5收起理由wanghanq2005查看全部评分好貼签名SolidWorkswanghanq2005找SMT工作就到SMT人才网回复支持反对使用道具举报checkmgcmnpost_2265044zds4468zds4468当前离线积分616兑换点点声望度金钱元银行存款元贡献度精华中级会员积分616距离下一级还需384积分14发表于2018123124321\n",
      "\n",
      "##### search result 1\n",
      "\n",
      "查看9604回复23AltiumDesignerprotel各版本故障随谈复制链接wanghanqwanghanq当前离线积分1713178兑换点点声望度金钱元银行存款元贡献度精华电梯直达1发表于2014514204219只看该作者倒序浏览阅读模式pcbmarginright0本帖最后由wanghanq于2014922041编辑此类话题的帖子开了又删删了又开比较纠结感觉一个随时可看到的bug或使用故障反馈的帖子还是有必要的对于使用上的问题大家可以随意发帖恶意言论要避免有知情的网友大可随意反馈懒的多写字的回复可直接回有或无都可很多的问题或许是个人操作或环境导致的使用故障所以在说明故障时最好能包含下面信息软件操作系统环境如XPWIN7AD软件版本方便的话给个含有故障的案例AltiumDesignerV69012759最后一个升级版本初学者也可以使用AltiumDesignerSummer9Build94020159最后一个升级版本初学者推荐版本AltiumDesigner10137727009最后一个升级版本AD10为开头的最后一个升级版本AD131210157027559试出过工程图AD132510181028368AD133410188128608最后一个升级版本设计洞察无效仅这个版本好似有这个现象AD14各版本未知感觉同等XP环境下明显慢于AD13XP下不再测试以上列表仅个人观点如有疑义请提出您的宝贵意见方便网友参考类似帖子给初学32Altium经典视频教程Altium免费提供httpwwwpcbbbscomforumphpmodviewthreadtid245009fromuid63313AD10很简单的PCB在走线的有时候会卡顿一下是怎么回事httpwwwpcbbbscomforumphpmodviewthreadtid266835fromuid63313Alitium各版本BUG随意说说httpwwwpcbbbscomforumphpmodviewthreadtid261786fromuid63313altium的版本很多每个版本都或多或少有些可容忍或可不容忍的问题此贴只是希望各位能将遇到的问题写出来我们不是altium官方bug的收集者只是希望给还在使用altium的网友一些参考也希望有些能被altium所接受如果我们按安装目录不同来区别大致有以下版本AD6AD9AD10AD13AD14这些版本中每个版本又会有很多升级版本序号通常会推荐大家使用各版本的最后一个升级版本序号但也不能保证最后一个升级版本序号会是BUG最少的版本序号比如AD13的最后一个升级版本AD133410188128608_设计洞察无效其前一个升级版本和后来的AD14就悄悄的恢复正常了再比如当前出现的AD14听网友反馈导出CAD图有问题暂时还未悄然恢复如果大家有分享的习惯再提到这些BUG时最好能描述清完整的版本号如上面的AD133410188128608必要时附上一个简单的和故障有关的小案例或许有网友能提示怎样规避这些BUG当然还有可能是操作原因导致的伪BUGtianchai_hot_style3margintop10pxwidth100clearbothtianchai_hot_style3atextdecorationnonecolor0088CCtianchai_hot_style3ahovertextdecorationunderlinetianchai_hot_style3aimgbordernonetianchai_hot_style3tdpfontfamilyLucidaGrandeGenevaVerdanaArialfontsize12pxtianchai_hot_style3left_boxfloatleftmargin5px02px8pxpadding0width48tianchai_hot_style3right_boxfloatleftmargin5px8px2px5pxpadding0width48tianchai_hot_style3lilineheight20px楼主新帖测试栏目图标仅临时用途虚谷掌控等国内定制功能版硬件基础教学开源课程基础框架参考HaiDIY测试版块说明致嘉立创及类似企业发帖建议楼主热帖**正确理解****器件****镀金****厚度****单位**μμm给初学33答非所问杂乱汇总贴鱼给初学32Altium经典视频教程Alti2012年6月更新18GAD10113324352_BT已完成CadenceSPB157License31dec本帖最后由wanghanq于2014922041编辑此类话题的帖子开了又删删了又开比较纠结感觉一个随时可看到的bug或使用故障反馈的帖子还是有必要的对于使用上的问题大家可以随意发帖恶意言论要避免有知情的网友大可随意反馈懒的多写字的回复可直接回有或无都可很多的问题或许是个人操作或环境导致的使用故障所以在说明故障时最好能包含下面信息软件操作系统环境如XPWIN7AD软件版本方便的话给个含有故障的案例AltiumDesignerV69012759最后一个升级版本初学者也可以使用AltiumDesignerSummer9Build94020159最后一个升级版本初学者推荐版本AltiumDesigner10137727009最后一个升级版本AD10为开头的最后一个升级版本AD131210157027559试出过工程图AD132510181028368AD133410188128608最后一个升级版本设计洞察无效仅这个版本好似有这个现象AD14各版本未知感觉同等XP环境下明显慢于AD13XP下不再测试以上列表仅个人观点如有疑义请提出您的宝贵意见方便网友参考类似帖子给初学32Altium经典视频教程Altium免费提供httpwwwpcbbbscomforumphpmodviewthreadtid245009fromuid63313AD10很简单的PCB在走线的有时候会卡顿一下是怎么回事httpwwwpcbbbscomforumphpmodviewthreadtid266835fromuid63313Alitium各版本BUG随意说说httpwwwpcbbbscomforumphpmodviewthreadtid261786fromuid63313altium的版本很多每个版本都或多或少有些可容忍或可不容忍的问题此贴只是希望各位能将遇到的问题写出来我们不是altium官方bug的收集者只是希望给还在使用altium的网友一些参考也希望有些能被altium所接受如果我们按安装目录不同来区别大致有以下版本AD6AD9AD10AD13AD14这些版本中每个版本又会有很多升级版本序号通常会推荐大家使用各版本的最后一个升级版本序号但也不能保证最后一个升级版本序号会是BUG最少的版本序号比如AD13的最后一个升级版本AD133410188128608_设计洞察无效其前一个升级版本和后来的AD14就悄悄的恢复正常了再比如当前出现的AD14听网友反馈导出CAD图有问题暂时还未悄然恢复如果大家有分享的习惯再提到这些BUG时最好能描述清完整的版本号如上面的AD133410188128608必要时附上一个简单的和故障有关的小案例或许有网友能提示怎样规避这些BUG当然还有可能是操作原因导致的伪BUG分享到QQ好友和群收藏1转播分享淘帖0支持0反对0回复使用道具举报checkmgcmnpost_2235203wanghanqwanghanq当前离线积分1713178兑换点点声望度金钱元银行存款元贡献度精华2楼主发表于2014514204433只看该作者备用位1备用位172815创建于2013811varcpro_idu1342694clemaclassfastrehrefforumphpmodpostampactionreplyampfid89amptid263936amprepquote2235204ampextrapage3D3amppage1onclickshowWindowreplythishref轛Yaaclassreplyaddhrefforumphpmodmiscampactionpostreviewampdosupportamptid263936amppid2235204amphash64109283onclickshowWindowloginthishrefonmouseoverthistitlereview_support_2235204innerHTMLreview_support_2235204innerHTML0篘ececspanidreview_support_2235204spanaaclassreplysubtracthrefforumphpmodmiscampactionpostreviewampdoagainstamptid263936amppid2235204amphash64109283onclickshowWindowloginthishrefonmouseoverthistitlereview_against_2235204innerHTMLreview_against_2235204innerHTML0篘蚐鵞蚐鵞spanidreview_against_2235204spanaempahrefjavascriptidmgc_post_2235204onmouseovershowMenuthisidclassshowmenuOuS恮QaahrefjavascriptonclickshowWindowmiscreport2235204miscphpmodreportrtypepostrid2235204tid263936楼主wanghanqAltiumDesignerprotel各版本故障随谈复制链接dianzi1987dianzi1987当前离线积分3743兑换点点声望度金钱元银行存款元贡献度精华金牌会员积分3743距离下一级还需1257积分11发表于2014718090404只看该作者pcbmarginright0已经更新了AD14版本的导出BOM缺少元件的问题详细见httpwwwpcbbbscomforumphpextrapage3D12楼请WH整理点评wanghanq浏览截图通过你的截图大致判断又是特殊字符惹的祸从几次的特殊字符惹祸之前是原理图库中软回车的惹祸基本可以判断出altium的软件工程师们的软件编程风格很不严谨导致特殊字符到处惹祸基于al详情回复发表于20147181857已经更新了AD14版本的导出BOM缺少元件的问题详细见httpwwwpcbbbscomforumphpextrapage3D12楼请WH整理回复支持反对使用道具举报checkmgcmnpost_2240902wanghanqwanghanq当前离线积分1713178兑换点点声望度金钱元银行存款元贡献度精华12楼主发表于2014718185701只看该作者dianzi1987发表于20147180904已经更新了AD14版本的导出BOM缺少元件的问题详细见httpwwwpcbbbscomforumphpmodviewthreadtid浏览截图通过你的截图大致判断又是特殊字符惹的祸从几次的特殊字符惹祸之前是原理图库中软回车的惹祸基本可以判断出altium的软件工程师们的软件编程风格很不严谨导致特殊字符到处惹祸基于altium的不稳定性我们要养成老老实实规规矩矩做事的风格1不乱用特殊字符老老实实规范自己的文档2不同软件之间不要转来转去altium的格式支持远没有你想象的那么到位这样的文档随时都有让你多掏冤枉钱的隐患3从现象再现上看这里其实就是字符猴头惹的祸去掉UniqueID末尾的字符后导出BOM就会正常了反之在**器件**ID末尾加上就可在BOM不出现这个**器件**也就是说一个规范的文档不是出现你这里所遇到的情况dianzi1987发表于20147180904已经更新了AD14版本的导出BOM缺少元件的问题详细见httpwwwpcbbbscomforumphpmodviewthreadtid浏览截图通过你的截图大致判断又是特殊字符惹的祸从几次的特殊字符惹祸之前是原理图库中软回车的惹祸基本可以判断出altium的软件工程师们的软件编程风格很不严谨导致特殊字符到处惹祸基于altium的不稳定性我们要养成老老实实规规矩矩做事的风格1不乱用特殊字符老老实实规范自己的文档2不同软件之间不要转来转去altium的格式支持远没有你想象的那么到位这样的文档随时都有让你多掏冤枉钱的隐患3从现象再现上看这里其实就是字符猴头惹的祸去掉UniqueID末尾的字符后导出BOM就会正常了反之在**器件**ID末尾加上就可在BOM不出现这个**器件**也就是说一个规范的文档不是出现你这里所遇到的情况找SMT工作就到SMT人才网回复支持反对使用道具举报checkmgcmnpost_2240979maxemrymaxemry当前离线积分1707兑换点点声望度金钱元银行存款元贡献度精华高级会员积分1707距离下一级还需1293积分13发表于201493113435只看该作者本帖最后由maxemry于2014931137编辑AD13的最后一个升级版本AD133410188128608_设计洞察是有效的本帖子中包含更多资源您需要登录才可以下载或查看没有帐号注册x评分参与人数1金钱200兑换点5收起理由wanghanq2005这次沟通可能更细化了下故障点__查看全部评分本帖最后由maxemry于2014931137编辑AD13的最后一个升级版本AD133410188128608_设计洞察是有效的wanghanq2005这次沟通可能更细化了下故障点__classa_pbahrefhttpwwwsmtjobcomtarget_blankb楼主wanghanqAltiumDesignerprotel各版本故障随谈复制链接cdk005cdk005当前离线积分48兑换点点声望度金钱元银行存款元贡献度精华新手上路积分48距离下一级还需52积分21发表于20141218224219只看该作者pcbmarginright0学习了学习了回复使用道具举报checkmgcmnpost_2251778shengushengu当前离线积分53兑换点点声望度金钱元银行存款元贡献度精华新手上路积分53距离下一级还需47积分22发表于2018716152248只看该作者AD16112版本原理图导出pdf格式时pdf文件的元**器件**右侧引脚名称会出现推挤到左侧对于双排针这种如图所示实际看IC的封装是右侧和上面的引脚名称会多出一些空格请问各位有无这种现象是否为软件的BUG本帖子中包含更多资源您需要登录才可以下载或查看没有帐号注册x点评wanghanq没有安装新版本无法确定问题点这类问题最好发一个sch案例文档这样方便网易辅助判断详情回复发表于20187220840AD16112版本原理图导出pdf格式时pdf文件的元**器件**右侧引脚名称会出现推挤到左侧对于双排针这种如图所示实际看IC的封装是右侧和上面的引脚名称会多出一些空格请问各位有无这种现象是否为软件的BUG找SMT工作就到SMT人才网回复支持反对使用道具举报checkmgcmnpost_2300705wanghanqwanghanq当前离线积分1713178兑换点点声望度金钱元银行存款元贡献度精华23楼主发表于2018722084017只看该作者shengu发表于20187161522AD16112版本原理图导出pdf格式时pdf文件的元**器件**右侧引脚名称会出现推挤到左侧对于双排针这种没有安装新版本无法确定问题点这类问题最好发一个sch案例文档这样方便网易辅助判断shengu发表于20187161522AD16112版本原理图导出pdf格式时pdf文件的元**器件**右侧引脚名称会出现推挤到左侧对于双排针这种没有安装新版本无法确定问题点这类问题最好发一个sch案例文档这样方便网易辅助判断72815创建于2013811varcpro_idu1342694回复支持反对使用道具举报checkmgcmnpost_2300763lassplsrowspan2dividfavatar2300764classplsfavataranamelastpostadivclasspidivclassauthiahrefhttphomepcbbbscomhomephpmodspaceampuid63313target_blankclassxw1wanghanqadivdivdivclassp_popblkbuicard_gender_iduserinfo2300764styledisplaynonemargintop11pxdivclassmzdividuserinfo2300764_madivdivdivclassiydivstrongahrefhttphomepcbbbscomhomephpmodspaceampuid63313target_blankclassxi2wanghanqastrongemS_MR粂縹emdivdlclasscldt飝Rdtddahrefhttphomepcbbbscomhomephpmodspaceuid63313doprofiletarget_blankclassxi21713178adddtQQbc筽dtdd筽dd\n",
      "\n",
      "##### search result 2\n",
      "\n",
      "查看4096回复13edaceo到底是怎样的一个论坛复制链接wanghanqwanghanq当前离线积分1713208兑换点点声望度金钱元银行存款元贡献度精华电梯直达1发表于20111227173834只看该作者倒序浏览阅读模式pcbmarginright0本帖最后由wanghanq于201212241157编辑反馈问题的同时又给它做了回免费广告同时提醒习惯用同样用户名和密码的网友如果您用同样的用户名及密码注册了这家论坛的话建议您尽快修改您的个人密码黑驴蹄子据我所知在同行电子论坛中eeworld论坛和edaceo论坛都是使用网络采集机器人大量精华帖子被抄袭其行为相当可憎关联内容edaceo神奇的论坛奇怪的pcbbbs论坛的管理现象httpwwwpcbbbscomforumphpmodviewthreadtid245250fromuid63313tianchai_hot_style3margintop10pxwidth100clearbothtianchai_hot_style3atextdecorationnonecolor0088CCtianchai_hot_style3ahovertextdecorationunderlinetianchai_hot_style3aimgbordernonetianchai_hot_style3tdpfontfamilyLucidaGrandeGenevaVerdanaArialfontsize12pxtianchai_hot_style3left_boxfloatleftmargin5px02px8pxpadding0width48tianchai_hot_style3right_boxfloatleftmargin5px8px2px5pxpadding0width48tianchai_hot_style3lilineheight20px楼主新帖测试栏目图标仅临时用途虚谷掌控等国内定制功能版硬件基础教学开源课程基础框架参考HaiDIY测试版块说明致嘉立创及类似企业发帖建议楼主热帖**正确理解****器件****镀金****厚度****单位**μμm给初学33答非所问杂乱汇总贴鱼给初学32Altium经典视频教程Alti2012年6月更新18GAD10113324352_BT已完成CadenceSPB157License31dec本帖子中包含更多资源您需要登录才可以下载或查看没有帐号注册x本帖最后由wanghanq于201212241157编辑反馈问题的同时又给它做了回免费广告同时提醒习惯用同样用户名和密码的网友如果您用同样的用户名及密码注册了这家论坛的话建议您尽快修改您的个人密码黑驴蹄子据我所知在同行电子论坛中eeworld论坛和edaceo论坛都是使用网络采集机器人大量精华帖子被抄袭其行为相当可憎关联内容edaceo神奇的论坛奇怪的pcbbbs论坛的管理现象httpwwwpcbbbscomforumphpmodviewthreadtid245250fromuid63313分享到QQ好友和群收藏0转播分享淘帖0支持0反对0回复使用道具举报checkmgcmnpost_2124220阿鸣阿鸣当前离线积分21800兑换点点声望度金钱元银行存款元贡献度精华2发表于20111227180220只看该作者同意楼主的观点大家访问这个论坛要注意已经在本论坛被封禁了10多个账号了还在孜孜不倦到处刷广告同意楼主的观点大家访问这个论坛要注意已经在本论坛被封禁了10多个账号了还在孜孜不倦到处刷广告72815创建于2013811varcpro_idu1342694回复支持反对使用道具举报checkmgcmnpost_2124221kensun7target_blankclassxi2kensunastrongemS_MR粂縹emdivdlclasscldt飝Rdtddahrefhttphomepcbbbscomhomephpmodspaceuid273997doprofiletarget_blankclassxi2609adddtQQbc筽dtdd筽dd楼主wanghanqedaceo到底是怎样的一个论坛复制链接umtkcpbbumtkcpbb当前离线积分199兑换点点声望度金钱元银行存款元贡献度精华初级会员积分199距离下一级还需301积分11发表于201287234257只看该作者pcbmarginright0要坐就做沙发要顶就顶精铁潘通色卡pantone色卡要坐就做沙发要顶就顶精铁潘通色卡pantone色卡回复支持反对使用道具举报checkmgcmnpost_2167635umtkcpbbumtkcpbb当前离线积分199兑换点点声望度金钱元银行存款元贡献度精华初级会员积分199距离下一级还需301积分12发表于2012810045119只看该作者我只看看不说话国际色卡国标色卡我只看看不说话国际色卡国标色卡72815创建于2013811varcpro_idu1342694回复支持反对使用道具举报checkmgcmnpost_2168000sdhsnuhksdhsnuhk当前离线积分114兑换点点声望度金钱元银行存款元贡献度精华初级会员积分114距离下一级还需386积分13发表于2012929205543只看该作者支持顶起来受教了支持支持brbrbrbrbrbrbrbrbrbrbrbrbrbrbrbrbrbrbrbrbrbrbrbr隔离霜顶起来受教了支持支持brbrbrbrbrbrbrbrbrbrbrbrbrbrbrbrbrbrbrbrbrbrbrbr隔离霜找SMT工作就到SMT人才网回复支持反对使用道具举报checkmgcmnpost_2176575sdhsnuhktphomepcbbbscomhomephpmodspaceampuid2298529target_blankclassxi2sdhsnuhkastrongemS_MR粂縹emdivdlclasscldt飝Rdtddahrefhttphomepcbbbscomhomephpmodspaceuid2298529doprofiletarget_blankclassxi2114adddtQQbc筽dtdd筽dd\n",
      "\n",
      "##### search result 3\n",
      "\n",
      "查看383回复1虚谷掌控等国内定制功能版硬件复制链接wanghanqwanghanq当前离线积分1713168兑换点点声望度金钱元银行存款元贡献度精华电梯直达1发表于2018119004725只看该作者倒序浏览阅读模式pcbmarginright0虚谷待补充虚谷作为一个中国本土开源硬件项目聚焦于人工智能教育和Python编程教学首先是因为大家对这款理想开源硬件的期望并不高技术门槛如microbit一样低性能和成本上至少要优于树莓派能够兼容大部分Arduino的项目mPython掌控是一块MicroPython微控制器板MicroPython旨在尽可能与普通Python兼容以便您轻松地将代码从桌面传输到微控制器或嵌入式系统mPython掌控板基础文档说明httpmpythonreadthedocsiozhlfromgroupmessgge案例1基础教程掌控mpython9照亮孩子们前行的路光控彩灯httpmcdfrobotcomcnforump9736extrapage3D2mixgohttpsgithubcomxbedmixgowwwbunnyzoocomBunnyZoo创极客乐园智能硬件学习平台集软件工具课程商城社区于一体BunnyTool快速编写硬件程序多种图形化方式支持支持众多**器件**模块简单方便易上手lDE集成开发环境IDEIntegratedDevelopmentEnvironment是用于提供程序开发环境的应用程序一般包括代码编辑器编译器调试器和图形用户界面等工具集成了代码编写功能分析功能编译功能调试功能等一体化的开发软件服务套所有具备这一特性的软件或者软件套组都可以叫集成开发环境如微软的VisualStudio系列Borland的CBuilderDelphi系列等该程序可以独立运行也可以和其它程序并用IDE多被用于开发HTML应用软件例如许多人在设计网站时使用IDE如HomeSiteDreamWeaver等因为很多项任务会自动生成IDE是集成开发环境IntegratedDevelopmentEnvironment缩写IDE是一种个编程软件是集成了程序员语言开发中会需要的一些基本工具基本环境和其他辅助功能的应用软件IDE一般包含三个主要组件源代码编辑器Editor编译器解释器CompilerInterpreter和调试器Debugger开发人员可以通过图形用户界面GUI访问这些组件并且实现整个代码编译调试和执行的过程现在的IDE也提供其他帮助程序员提供开发效率的一些高级辅助功能比如代码高亮代码补全和提示语法错误提示函数追踪断点调试等现在有大量的免费开源的和商用的IDEtianchai_hot_style3margintop10pxwidth100clearbothtianchai_hot_style3atextdecorationnonecolor0088CCtianchai_hot_style3ahovertextdecorationunderlinetianchai_hot_style3aimgbordernonetianchai_hot_style3tdpfontfamilyLucidaGrandeGenevaVerdanaArialfontsize12pxtianchai_hot_style3left_boxfloatleftmargin5px02px8pxpadding0width48tianchai_hot_style3right_boxfloatleftmargin5px8px2px5pxpadding0width48tianchai_hot_style3lilineheight20px楼主新帖测试栏目图标仅临时用途基础教学开源课程基础框架参考HaiDIY测试版块说明致嘉立创及类似企业发帖建议网站推荐今天无意中看到一个硬件设计相楼主热帖**正确理解****器件****镀金****厚度****单位**μμm给初学33答非所问杂乱汇总贴鱼给初学32Altium经典视频教程Alti2012年6月更新18GAD10113324352_BT已完成CadenceSPB157License31dec本帖子中包含更多资源您需要登录才可以下载或查看没有帐号注册x虚谷待补充虚谷作为一个中国本土开源硬件项目聚焦于人工智能教育和Python编程教学首先是因为大家对这款理想开源硬件的期望并不高技术门槛如microbit一样低性能和成本上至少要优于树莓派能够兼容大部分Arduino的项目mPython掌控是一块MicroPython微控制器板MicroPython旨在尽可能与普通Python兼容以便您轻松地将代码从桌面传输到微控制器或嵌入式系统mPython掌控板基础文档说明httpmpythonreadthedocsiozhlfromgroupmessgge案例1基础教程掌控mpython9照亮孩子们前行的路光控彩灯httpmcdfrobotcomcnforump9736extrapage3D2mixgohttpsgithubcomxbedmixgowwwbunnyzoocomBunnyZoo创极客乐园智能硬件学习平台集软件工具课程商城社区于一体BunnyTool快速编写硬件程序多种图形化方式支持支持众多**器件**模块简单方便易上手lDE集成开发环境IDEIntegratedDevelopmentEnvironment是用于提供程序开发环境的应用程序一般包括代码编辑器编译器调试器和图形用户界面等工具集成了代码编写功能分析功能编译功能调试功能等一体化的开发软件服务套所有具备这一特性的软件或者软件套组都可以叫集成开发环境如微软的VisualStudio系列Borland的CBuilderDelphi系列等该程序可以独立运行也可以和其它程序并用IDE多被用于开发HTML应用软件例如许多人在设计网站时使用IDE如HomeSiteDreamWeaver等因为很多项任务会自动生成IDE是集成开发环境IntegratedDevelopmentEnvironment缩写IDE是一种个编程软件是集成了程序员语言开发中会需要的一些基本工具基本环境和其他辅助功能的应用软件IDE一般包含三个主要组件源代码编辑器Editor编译器解释器CompilerInterpreter和调试器Debugger开发人员可以通过图形用户界面GUI访问这些组件并且实现整个代码编译调试和执行的过程现在的IDE也提供其他帮助程序员提供开发效率的一些高级辅助功能比如代码高亮代码补全和提示语法错误提示函数追踪断点调试等现在有大量的免费开源的和商用的IDE分享到QQ好友和群收藏0转播分享淘帖0支持0反对0回复使用道具举报checkmgcmnpost_2302302wanghanqwanghanq当前离线积分1713168兑换点点声望度金钱元银行存款元贡献度精华2楼主发表于2018119012131只看该作者库的WINDOWS系统文件管理方式WINDOWS7引入库的概念并非传统意义上的用来存放用户文件的文件夹它还具备了方便用户在计算机中快速查找到所需文件的作用在WindowsXP时代文件管理的主要形式是以用户的个人意愿用文件夹的形式作为基础分类进行存放然后再按照文件类型进行细化但随着文件数量和种类的增多加上用户行为的不确定性原有的文件管理方式往往会造成文件存储混乱重复文件多等情况已经无法满足用户的实际需求而在Windows7以下简称Win7中由于引进了库文件管理更方便可以把本地或局域网中的文件添加到库把文件收藏起来简单地讲文件库可以将我们需要的文件和文件夹统统集中到一起就如同网页收藏夹一样只要单击库中的链接就能快速打开添加到库中的文件夹而不管它们原来深藏在本地电脑或局域网当中的任何位置另外它们都会随着原始文件夹的变化而自动更新并且可以以同名的形式存在于文件库中存储库storagelibrary是诸如磁带或唱片这里类物理存储媒体及其访问方式比如磁带库包含磁带盒和驱动它们进出驱动器的的机械装置它们存储的内容在这里读取和更新数据库datalibrary是数据中心存储媒体文档的区域在线服务提供商有时候也提供作为数据库的服务器上可下载的文件的目录异同我们可以看到库好像跟传统的文件夹比较相像确实从某个角度来讲库跟文件夹确实有很多相似的地方如跟文件夹一样在库中也可以包含各种各样的子库与文件等等但是其本质上跟文件夹有很大的不同在文件夹中保存的文件或者子文件夹都是存储在同一个地方的而在库中存储的文件则可以来自于五湖四海如可以在来自于用户电脑上的关联文件或者来自于移动磁盘上的文件这个差异虽然比较细小但确是传统文件夹与库之间的最本质的差异库的WINDOWS系统文件管理方式WINDOWS7引入库的概念并非传统意义上的用来存放用户文件的文件夹它还具备了方便用户在计算机中快速查找到所需文件的作用在WindowsXP时代文件管理的主要形式是以用户的个人意愿用文件夹的形式作为基础分类进行存放然后再按照文件类型进行细化但随着文件数量和种类的增多加上用户行为的不确定性原有的文件管理方式往往会造成文件存储混乱重复文件多等情况已经无法满足用户的实际需求而在Windows7以下简称Win7中由于引进了库文件管理更方便可以把本地或局域网中的文件添加到库把文件收藏起来简单地讲文件库可以将我们需要的文件和文件夹统统集中到一起就如同网页收藏夹一样只要单击库中的链接就能快速打开添加到库中的文件夹而不管它们原来深藏在本地电脑或局域网当中的任何位置另外它们都会随着原始文件夹的变化而自动更新并且可以以同名的形式存在于文件库中存储库storagelibrary是诸如磁带或唱片这里类物理存储媒体及其访问方式比如磁带库包含磁带盒和驱动它们进出驱动器的的机械装置它们存储的内容在这里读取和更新数据库datalibrary是数据中心存储媒体文档的区域在线服务提供商有时候也提供作为数据库的服务器上可下载的文件的目录异同我们可以看到库好像跟传统的文件夹比较相像确实从某个角度来讲库跟文件夹确实有很多相似的地方如跟文件夹一样在库中也可以包含各种各样的子库与文件等等但是其本质上跟文件夹有很大的不同在文件夹中保存的文件或者子文件夹都是存储在同一个地方的而在库中存储的文件则可以来自于五湖四海如可以在来自于用户电脑上的关联文件或者来自于移动磁盘上的文件这个差异虽然比较细小但确是传统文件夹与库之间的最本质的差异\n",
      "\n",
      "##### search result 4\n",
      "\n",
      "查看22638回复66转载比较完整的PROTEL最新版本ALTIUM上海培训资料共享_20120815_600M复制链接wanghanqwanghanq当前离线积分1713178兑换点点声望度金钱元银行存款元贡献度精华电梯直达1发表于2013417232608只看该作者倒序浏览阅读模式pcbmarginright0欣赏这些不用登录就能下载的论坛上面的这个附件也可在下面论坛不用登录免费下载下面的地址顺序以此次搜寻次序排列使用AltiumDesigner进行高性能PCB设计资料汇集庞展发消息201209072024httpbbs21dianyuancom127116htmlPROTEL最新版本ALTIUM上海培训资料共享yydylily2发消息201208151211httpbbs21dianyuancom102056htmlaltium组织了去上海的培训培训持续了三天有幸参加下面将培训的教程和培训的资料共享给大家非常感谢楼主的贡献迅雷下载所有链接只选php格式的全部下来不会手软这也太牛了吧小心侵权呀不过还的顶支持楼主原厂也支持楼主因为楼主给他们宣传了126楼yydylily2本网技师267发消息201208151951你分享我分享大家一起来分享闭门造车是不会进步的回复126楼241楼了空和尚助理工程师310发消息201211251835钓鱼执法不应该是中国人的专利其实人家AD公司等着你侵权呢如果大家觉得资料很好不妨去感谢感谢资料分享的网友此贴作为给初学33答非所问杂乱汇总贴鱼渔提问的艺术httpwwwpcbbbscomforumphpmodviewthreadtid245988fromuid63313结业帖帖头提醒学习者擅用搜索引擎如果把网络比作驴使用网络的比作骑驴人骑驴人可否从驴身上下来不去演绎古老的骑驴找驴行为此贴中列出的官网提供的海量的免费资料含视频下面网友共享的培训资料软件安装自带的帮助文档以及热心网友探讨等内容应该可以解决初学时遇到的多数问题总骑在驴上的不妨下来走走锻炼锻炼身体上海培训资料tianchai_hot_style3margintop10pxwidth100clearbothtianchai_hot_style3atextdecorationnonecolor0088CCtianchai_hot_style3ahovertextdecorationunderlinetianchai_hot_style3aimgbordernonetianchai_hot_style3tdpfontfamilyLucidaGrandeGenevaVerdanaArialfontsize12pxtianchai_hot_style3left_boxfloatleftmargin5px02px8pxpadding0width48tianchai_hot_style3right_boxfloatleftmargin5px8px2px5pxpadding0width48tianchai_hot_style3lilineheight20px楼主新帖测试栏目图标仅临时用途虚谷掌控等国内定制功能版硬件基础教学开源课程基础框架参考HaiDIY测试版块说明致嘉立创及类似企业发帖建议楼主热帖**正确理解****器件****镀金****厚度****单位**μμm给初学33答非所问杂乱汇总贴鱼给初学32Altium经典视频教程Alti2012年6月更新18GAD10113324352_BT已完成CadenceSPB157License31dec评分参与人数1金钱10收起理由PCB123456丶10查看全部评分欣赏这些不用登录就能下载的论坛上面的这个附件也可在下面论坛不用登录免费下载下面的地址顺序以此次搜寻次序排列使用AltiumDesigner进行高性能PCB设计资料汇集庞展发消息201209072024httpbbs21dianyuancom127116htmlPROTEL最新版本ALTIUM上海培训资料共享yydylily2发消息201208151211httpbbs21dianyuancom102056htmlaltium组织了去上海的培训培训持续了三天有幸参加下面将培训的教程和培训的资料共享给大家非常感谢楼主的贡献迅雷下载所有链接只选php格式的全部下来不会手软这也太牛了吧小心侵权呀不过还的顶支持楼主原厂也支持楼主因为楼主给他们宣传了126楼yydylily2本网技师267发消息201208151951你分享我分享大家一起来分享闭门造车是不会进步的回复126楼241楼了空和尚助理工程师310发消息201211251835钓鱼执法不应该是中国人的专利其实人家AD公司等着你侵权呢如果大家觉得资料很好不妨去感谢感谢资料分享的网友此贴作为给初学33答非所问杂乱汇总贴鱼渔提问的艺术httpwwwpcbbbscomforumphpmodviewthreadtid245988fromuid63313结业帖帖头提醒学习者擅用搜索引擎如果把网络比作驴使用网络的比作骑驴人骑驴人可否从驴身上下来不去演绎古老的骑驴找驴行为此贴中列出的官网提供的海量的免费资料含视频下面网友共享的培训资料软件安装自带的帮助文档以及热心网友探讨等内容应该可以解决初学时遇到的多数问题总骑在驴上的不妨下来走走锻炼锻炼身体PCB123456丶10分享到QQ好友和群收藏12转播分享淘帖0支持3反对0相关帖子谁有MMLH45F芯片资料谁有基于AD的信号完整性分析产生的波形的分析资料么资料分享我也来分享一些资料于博士信号完整性揭秘有资料需要外发处理的请联系我FPC正规工厂品质工艺管理资料要的说一声转帖班门弄斧汇总贴有关阻抗的一些资料以及交流ed汇总正规外资大厂IPQC管理资料FPC难得一见的求卷对卷曝光机作业规范或说明资料求卷对卷曝光机作业规范或说明资料机型不限谢谢华笙EZGRID想做大板材资料有高手有办法解决吗回复使用道具举报checkmgcmnpost_2194135ardivclasspidivclassauthiahrefhttphomepcbbbscomhomephpmodspaceampuid2309901target_blankclassxw1CS鯯癚沑adivdivdivclassp_popblkbuicard_gender_iduserinfo2194176styledisplaynonemargintop11pxdivclassmzdividuserinfo2194176_madivdivdivclassiydivstrongahrefhttphomepcbbbscomhomephpmodspaceampuid2309901target_blankclassxi2CS鯯癚沑astrongemS_MR粂縹emdivdlclasscldt飝Rdtddahrefhttphomepcbbbscomhomephpmodspaceuid2309901doprofiletarget_blankclassxi211adddtQQbc筽dtdd筽dd楼主wanghanq转载比较完整的PROTEL最新版本ALTIUM上海培训资料共享_20120815_600M复制链接zrzkmlgzrzkmlg当前离线积分13兑换点点声望度金钱元银行存款元贡献度精华新手上路积分13距离下一级还需87积分11发表于2013520211954只看该作者pcbmarginright0先顶起来再说评分参与人数1金钱200收起理由wanghanq200参与查看全部评分先顶起来再说wanghanq200参与回复支持反对使用道具举报checkmgcmnpost_2196514ks02756ks02756当前离线积分27兑换点点声望度金钱元银行存款元贡献度精华新手上路积分27距离下一级还需73积分12发表于201368165433只看该作者楼主咱崇拜呢评分参与人数1金钱200收起理由wanghanq200客气了等着看网页们更适宜的资料查看全部评分楼主咱崇拜呢wanghanq200客气了等着看网页们更适宜的资料找SMT工作就到SMT人才网回复支持反对使用道具举报checkmgcmnpost_2197997GIRAFFEGIRAFFE当前离线积分1030兑换点点声望度金钱元银行存款元贡献度精华高级会员积分1030距离下一级还需1970积分13发表于201368221220只看该作者楼主太厉害了支持应该给加精评分参与人数1金钱200楼主太厉害了支持应该给加精楼主wanghanq转载比较完整的PROTEL最新版本ALTIUM上海培训资料共享_20120815_600M复制链接集成电路集成电路当前离线积分10兑换点点声望度金钱元银行存款元贡献度精华新手上路积分10距离下一级还需90积分21发表于2013819230830只看该作者pcbmarginright0楼主好人啊楼主好人啊回复支持反对使用道具举报checkmgcmnpost_2204839凝心99凝心99当前离线积分1640兑换点点声望度金钱元银行存款元贡献度精华高级会员积分1640距离下一级还需1360积分22发表于2013821163147只看该作者好东西继续学习好东西继续学习72815创建于2013811varcpro_idu1342694回复支持反对使用道具举报checkmgcmnpost_2205064strongwind312strongwind312当前离线积分366兑换点点声望度金钱元银行存款元贡献度精华初级会员积分366距离下一级还需134积分23发表于2013825163136只看该作者谢谢楼主分享谢谢楼主分享72815创建于2013811varcpro_idu1342694回复支持反对使用道具举报checkmgcmnpost_2205521凝心99凝心99当前离线积分1640兑换点点声望度dddt褢睌dtddCQdddt鰯L圶kdtddCQdd楼主wanghanq转载比较完整的PROTEL最新版本ALTIUM上海培训资料共享_20120815_600M复制链接rapido88rapido88当前离线积分8兑换点点声望度金钱元银行存款元贡献度精华新手上路积分8距离下一级还需92积分31发表于2013912144910只看该作者pcbmarginright0膜拜太强大了膜拜太强大了回复支持反对使用道具举报checkmgcmnpost_2207517whycxywhycxy当前离线积分6兑换点点声望度金钱元银行存款元贡献度精华新手上路积分6距离下一级还需94积分32发表于2013117192902只看该作者非常不错学习学习非常不错学习学习72815创建于2013811varcpro_idu1342694回复支持反对使用道具举报checkmgcmnpost_2213385babybcnbabybcn当前离线积分155兑换点点声望度金钱元银行存款元贡献度精华初级会员积分155距离下一级还需345积分33发表于20131213165635只看该作者楼主太伟大了狂顶点评wanghanq资料提供者精神可嘉发表于201312132014评分参与人数1金钱200收起理由wanghanq200查看全部评分楼主太伟大了狂顶wanghanq200找SMT工作就到SMT人才网回复支持反对mouseovershowMenuthisidclassshowmenuOuS恮QaahrefjavascriptonclickshowWindowmiscreport2217838miscphpmodreportrtypepostrid2217838tid256342楼主wanghanq转载比较完整的PROTEL最新版本ALTIUM上海培训资料共享_20120815_600M复制链接危险城堡危险城堡当前离线积分3兑换点点声望度金钱元银行存款元贡献度精华新手上路积分3距离下一级还需97积分41发表于2014630123721只看该作者pcbmarginright0感谢楼主的分享感谢楼主的分享回复支持反对使用道具举报checkmgcmnpost_2238838lhkkg21lhkkg21当前离线积分8兑换点点声望度金钱元银行存款元贡献度精华新手上路积分8距离下一级还需92积分42发表于20141217094129只看该作者楼主真心好人先谢过楼主真心好人先谢过72815创建于2013811varcpro_idu1342694回复支持反对使用道具举报checkmgcmnpost_2251650wodermawoderma当前离线积分43兑换点点声望度金钱元银行存款元贡献度精华新手上路积分43距离下一级还需57积分43发表于20141224204525只看该作者thankyouverymuchthankyouverymuch72815创建于2013811varcpro_idu1342694回复支持反对使用道具举报checkmgcmnpost_2252044zys0797zys0797当前离线积分7兑换点点声望度金钱元银行存款元贡献度精华tiptip_4styledisplaynonedivclasstip_horndiv\n",
      "\n"
     ]
    }
   ],
   "source": [
    "with open('../data/output/sz_result.md') as fi:\n",
    "    for i in range(10):\n",
    "        print(fi.readline())"
   ]
  },
  {
   "cell_type": "markdown",
   "metadata": {},
   "source": [
    "# PageRank"
   ]
  },
  {
   "cell_type": "code",
   "execution_count": 16,
   "metadata": {},
   "outputs": [],
   "source": [
    "# 基于爬取到的链接，与每个链接可以转跳的链接构建图\n",
    "pcburl_graph = nx.DiGraph()"
   ]
  },
  {
   "cell_type": "code",
   "execution_count": 17,
   "metadata": {},
   "outputs": [],
   "source": [
    "pcburl_graph.add_nodes_from(spiderdata_index.keys())"
   ]
  },
  {
   "cell_type": "code",
   "execution_count": 18,
   "metadata": {},
   "outputs": [],
   "source": [
    "for url in spiderdata_index:\n",
    "    if len(spiderdata_index[url][1]) != 0:\n",
    "        for url2 in spiderdata_index[url][1]:\n",
    "            pcburl_graph.add_edge(url,url2)"
   ]
  },
  {
   "cell_type": "markdown",
   "metadata": {},
   "source": [
    "## 常规的PageRank"
   ]
  },
  {
   "cell_type": "code",
   "execution_count": 150,
   "metadata": {},
   "outputs": [
    {
     "name": "stdout",
     "output_type": "stream",
     "text": [
      "This is NO.1 iteration\n",
      "This is NO.2 iteration\n",
      "This is NO.3 iteration\n",
      "This is NO.4 iteration\n",
      "This is NO.5 iteration\n",
      "This is NO.6 iteration\n",
      "This is NO.7 iteration\n",
      "This is NO.8 iteration\n",
      "This is NO.9 iteration\n",
      "This is NO.10 iteration\n",
      "This is NO.11 iteration\n",
      "This is NO.12 iteration\n",
      "This is NO.13 iteration\n",
      "This is NO.14 iteration\n",
      "This is NO.15 iteration\n",
      "This is NO.16 iteration\n",
      "This is NO.17 iteration\n",
      "finished in http://www.pcbbbs.com/viewthread.php?tid=212392  iterations!\n",
      "has been append 2774.948380470276 s\n"
     ]
    }
   ],
   "source": [
    "# 由于nx自带的pagerank训练时内存超出限制，因此用自己写的PageRank进行计算\n",
    "pr = PRIterator(pcburl_graph)\n",
    "start_time = time.time()\n",
    "pcb_pagerank = pr.page_rank()\n",
    "end_time = time.time()\n",
    "print('has been append {} s'.format(end_time-start_time))"
   ]
  },
  {
   "cell_type": "markdown",
   "metadata": {},
   "source": [
    "## 基于MapReduce的PageRank"
   ]
  },
  {
   "cell_type": "code",
   "execution_count": 19,
   "metadata": {},
   "outputs": [],
   "source": [
    "mr_pr = PRMapReduce(pcburl_graph,min_delta=1e-6)"
   ]
  },
  {
   "cell_type": "code",
   "execution_count": 21,
   "metadata": {},
   "outputs": [
    {
     "name": "stdout",
     "output_type": "stream",
     "text": [
      "Change: 0.008841148770971818\n",
      "Change: 0.0003947569386056981\n",
      "Change: 0.00019245892818916253\n",
      "Change: 9.815405337647277e-05\n",
      "Change: 5.005856722200121e-05\n",
      "Change: 2.5529869283220648e-05\n",
      "Change: 1.302023333444246e-05\n",
      "Change: 6.640319000565469e-06\n",
      "Change: 3.38656269028854e-06\n",
      "Change: 1.7271469720471955e-06\n",
      "Change: 8.808449557440767e-07\n",
      "finished in 10 iterations\n",
      "has been append 0.3732156753540039 s\n"
     ]
    }
   ],
   "source": [
    "start_time = time.time()\n",
    "pcb_pagerank = mr_pr.page_rank()\n",
    "end_time = time.time()\n",
    "print('has been append {} s'.format(end_time-start_time))"
   ]
  },
  {
   "cell_type": "code",
   "execution_count": 25,
   "metadata": {},
   "outputs": [
    {
     "data": {
      "text/plain": [
       "'http://www.pcbbbs.com/forum.php?mod=viewthread&tid=289116&extra=page%3D1'"
      ]
     },
     "execution_count": 25,
     "metadata": {},
     "output_type": "execute_result"
    }
   ],
   "source": [
    "link_idx[1]"
   ]
  },
  {
   "cell_type": "code",
   "execution_count": 27,
   "metadata": {},
   "outputs": [
    {
     "data": {
      "text/plain": [
       "0.00013114490998874243"
      ]
     },
     "execution_count": 27,
     "metadata": {},
     "output_type": "execute_result"
    }
   ],
   "source": [
    "pcb_pagerank['http://www.pcbbbs.com/forum.php?mod=viewthread&tid=289116&extra=page%3D1'][0]"
   ]
  },
  {
   "cell_type": "markdown",
   "metadata": {},
   "source": [
    "# 通过PageRank对输出网页排序"
   ]
  },
  {
   "cell_type": "code",
   "execution_count": 71,
   "metadata": {},
   "outputs": [],
   "source": [
    "# 结合两列的排序情况，如同一组数据排序分别为1、3，则最终分值为4\n",
    "def combine_sorted(input_list, key1, key2):\n",
    "\n",
    "    sorted1 = sorted(input_list, key=key1, reverse=True)\n",
    "    sorted2 = sorted(input_list, key=key2, reverse=True)\n",
    "    for value in input_list:\n",
    "        print(sorted1.index(value) + sorted2.index(value))\n",
    "        value += [sorted1.index(value) + sorted2.index(value)]\n",
    "    return sorted(input_list, key=lambda x: x[-1])"
   ]
  },
  {
   "cell_type": "code",
   "execution_count": 78,
   "metadata": {},
   "outputs": [],
   "source": [
    "def new_search_enginer(query):\n",
    "    #     求取查询语句分词后在模型中对应的文档id\n",
    "    candidates_ids = get_candidates_ids(query)\n",
    "    document = [set(document_cols(candidate)) for candidate in candidates_ids]\n",
    "    retrieval_documents = and_operation(document)\n",
    "    #     查询的语句在模型中转化为向量，根据查询语句和内容相似程度倒序排列\n",
    "    query_vector = vectorizer.transform([cut(query)]).toarray()[0]\n",
    "    #     link_idx[doc_idx]为链接，pcb_pagerank[link_idx[doc_idx]][0]为pagerank值\n",
    "    vector_with_ids = [(tfidf[doc_idx], doc_idx,\n",
    "                        pcb_pagerank[link_idx[doc_idx]][0])\n",
    "                       for doc_idx in retrieval_documents]\n",
    "\n",
    "    #     根据相似度进行排序\n",
    "    sorted_vector_with_ids = combine_sorted(\n",
    "        vector_with_ids,\n",
    "        key1=lambda x: cosine(x[0].toarray(), query_vector),\n",
    "        key2=lambda x: x[2])\n",
    "\n",
    "    for vector_with_id in sorted_vector_with_ids:\n",
    "        output = keyword_bold(query, corpus[vector_with_id[1]])\n",
    "        yield ''.join(output.split())"
   ]
  },
  {
   "cell_type": "code",
   "execution_count": 79,
   "metadata": {},
   "outputs": [
    {
     "name": "stdout",
     "output_type": "stream",
     "text": [
      "done!\n"
     ]
    }
   ],
   "source": [
    "with open('../data/output/sz_result2.md','w') as fi:\n",
    "    for i, document in enumerate(search_enginer('正确理解 器件镀金厚度单位')):\n",
    "        fi.write('##### search result {}\\n'.format(i))\n",
    "        fi.write(document+'\\n')\n",
    "    print('done!')"
   ]
  },
  {
   "cell_type": "code",
   "execution_count": 80,
   "metadata": {},
   "outputs": [
    {
     "name": "stdout",
     "output_type": "stream",
     "text": [
      "##### search result 0\n",
      "\n",
      "查看11538回复14置顶精华贴部分汇总按发布时间排序_20130922复制链接wanghanqwanghanq当前离线积分1713178兑换点点声望度金钱元银行存款元贡献度精华电梯直达1发表于2013922102354只看该作者倒序浏览阅读模式pcbmarginright0本帖最后由wanghanq于2018422326编辑备注此类汇总可能的弊病论坛改版导致主题帖链接地址失效故当链接地址失效时可通过站内搜索引擎重新定位地址置顶1来是希望更多的网友看到并参与话题2来是对楼主表示鼓励其他主题帖中的广告信息可能会误导网友误以为是论坛推广行为参与的网友尽可能避免在主题帖中发布广告信息非论坛自身的广告信息再如百度那些用钱来衡量排名顺序的信息建议网友酌情考虑是否选择并信任欢迎网友发布原创文章只是不希望您发布原创文章的主要目的是为发布推广信息有前劲无后劲哆啦梦发表于201024080500含个人信息酌情考虑2010新年献礼2009Layout鲫鱼塘宝典全集httpwwwpcbbbscomforumphpmodviewthreadtid217048fromuid63313此帖中下载地址已经失效相关内容下载当前可参关联帖内的下载地址关联贴2012元旦献礼Layout鲫鱼塘宝典2012元旦篇httpwwwpcbbbscomforumphpmodviewthreadtid243350fromuid63313了解些背景我不是高手我只是热衷于分享layout鲫鱼塘201203011650很长一段时间因为网友看到我发的原创贴子以为我是高手其实是不是高手自己心里知道我平时工作中找到一些方法软件使用经验喜欢写下来以防忘记了感觉可能对同行有所帮助也就发到网上去了可能这些方法不会用很多次但是有时用一次也可能省不少时间我为什么要把这些资料分享出来呢可能有人说就是臭显摆呗这样说其实是高在抬我因为就这些资料有什么好显摆的在如今金钱至少的社会有钱才能显摆别的就不用说什么了虽然我不是想显摆什么但是我想把自己的经验和方法分享出来总不能说有错吧人类社会之所以发展得这么快不就是我们学习了先人的经验吗当然我的经验无法跟先人的智慧相比但我也想尽自己的绵薄之力人活一世总要为这个世界做点什么这并不是什么高尚的想法是社会的进步和发展需要我们这样做虽然我个人的力量很微弱但不是有那么一句话众人拾柴火焰高吗我不是高手我只是热衷于分享ahzss81发表于20101214133922多层板PCB设计教程完整版资料转载置顶早期资料httpwwwpcbbbscomforumphpmodviewthreadtid228444fromuid63313吴鸣发表于2011523004246利用PCBMatrixSymbolWizard和ExcelSmartGridInsert快速创建SymbolforAltiumhttpwwwpcbbbscomforumphpmodviewthreadtid235162fromuid63313ding86361953发表于2011727091858好书推荐印制电路板PCB设计技术与实践httpwwwpcbbbscomforumphpmodviewthreadtid238247fromuid63313wanghanq发表于2012513155936给初学33答非所问杂乱汇总贴鱼渔提问的艺术httpwwwpcbbbscomforumphpmodviewthreadtid245988fromuid63313关联贴给初学31offgrid不值得困惑初学者的警告_中国印制电路行业排行榜httpwwwpcbbbscomforumphpmodviewthreadtid246905fromuid63313给初学32Altium经典视频教程Altium免费提供httpwwwpcbbbscomforumphpmodviewthreadtid245009fromuid63313altium视频地址再次补充说明如何使用多个监视器httpwwwpcbbbscomforumphpmodviewthreadtid260131fromuid63313给初学33答非所问杂乱汇总贴鱼渔提问的艺术httpwwwpcbbbscomforumphpmodviewthreadtid245988fromuid63313ProtelAltium文章观后感分享探讨汇总收集帖httpwwwpcbbbscomforumphpmodviewthreadtid256501fromuid63313转载比较完整的PROTEL最新版本ALTIUM上海培训资料共享_20120815_600Mhttpwwwpcbbbscomforumphpmodviewthreadtid256342fromuid63313**正确理解****器件****镀金****厚度****单位**μμm或uum迈mai谬miuhttpwwwpcbbbscomforumphpmodviewthreadtid256274fromuid63313分享3D库免费下载地址httpwwwpcbbbscomforumphpmodviewthreadtid217255fromuid63313zhengzy发表于20121023100351原创AltiumdesignerPCB画板速成教材httpwwwpcbbbscomforumphpmodviewthreadtid251712fromuid63313JIMDENG_eda365ZHENGZY是我AD10入门师傅也可以出版一本AD13实战攻略姐妹篇他那本ADPCB速成教材写得也很有水平一本很好的工具书关联帖子jimmy版主新书pads95实战攻略和高速pcb设计发布通告httpwwweda365comforumphpmodviewthreadtid92417fromuid4169liucongok发表于20121023170151推荐覆铜规则设置_适合初学者查看httpwwwpcbbbscomforumphpmodviewthreadtid251750fromuid63313黑驴蹄子发表于20121025165647上任第一天PCBLayout图文教程终结版AltiumcadencePADS图文教程httpwwwpcbbbscomforumphpmodviewthreadtid251814fromuid63313zhengzy发表于20121113200556含个人信息酌情考虑免费PCB设计QA检查服务httpwwwpcbbbscomforumphpmodviewthreadtid253990fromuid63313PCB布局走线的一点建议httpwwwpcbbbscomforumphpmodviewthreadtid259362fromuid63313zhengzy发表于2013326160428含个人信息酌情考虑原创整理Altium常用3D设计封装库httpwwwpcbbbscomforumphpmodviewthreadtid256009fromuid63313JenyXu发表于2013521184400含个人信息酌情考虑原创之AD教程专用贴陆续更新中httpwwwpcbbbscomforumphpmodviewthreadtid256773fromuid63313JenyXu发表于2013522225531含个人信息酌情考虑免费DFM可制造性检查申请专用贴httpwwwpcbbbscomforumphpmodviewthreadtid256791fromuid63313JenyXu发表于2013614213539本帖最后由wanghanq于2018422326编辑备注此类汇总可能的弊病论坛改版导致主题帖链接地址失效故当链接地址失效时可通过站内搜索引擎重新定位地址置顶1来是希望更多的网友看到并参与话题2来是对楼主表示鼓励其他主题帖中的广告信息可能会误导网友误以为是论坛推广行为参与的网友尽可能避免在主题帖中发布广告信息非论坛自身的广告信息再如百度那些用钱来衡量排名顺序的信息建议网友酌情考虑是否选择并信任欢迎网友发布原创文章只是不希望您发布原创文章的主要目的是为发布推广信息有前劲无后劲哆啦梦发表于201024080500含个人信息酌情考虑2010新年献礼2009Layout鲫鱼塘宝典全集httpwwwpcbbbscomforumphpmodviewthreadtid217048fromuid63313此帖中下载地址已经失效相关内容下载当前可参关联帖内的下载地址关联贴2012元旦献礼Layout鲫鱼塘宝典2012元旦篇httpwwwpcbbbscomforumphpmodviewthreadtid243350fromuid63313了解些背景我不是高手我只是热衷于分享layout鲫鱼塘201203011650很长一段时间因为网友看到我发的原创贴子以为我是高手其实是不是高手自己心里知道我平时工作中找到一些方法软件使用经验喜欢写下来以防忘记了感觉可能对同行有所帮助也就发到网上去了可能这些方法不会用很多次但是有时用一次也可能省不少时间我为什么要把这些资料分享出来呢可能有人说就是臭显摆呗这样说其实是高在抬我因为就这些资料有什么好显摆的在如今金钱至少的社会有钱才能显摆别的就不用说什么了虽然我不是想显摆什么但是我想把自己的经验和方法分享出来总不能说有错吧人类社会之所以发展得这么快不就是我们学习了先人的经验吗当然我的经验无法跟先人的智慧相比但我也想尽自己的绵薄之力人活一世总要为这个世界做点什么这并不是什么高尚的想法是社会的进步和发展需要我们这样做虽然我个人的力量很微弱但不是有那么一句话众人拾柴火焰高吗我不是高手我只是热衷于分享ahzss81发表于20101214133922多层板PCB设计教程完整版资料转载置顶早期资料httpwwwpcbbbscomforumphpmodviewthreadtid228444fromuid63313吴鸣发表于2011523004246利用PCBMatrixSymbolWizard和ExcelSmartGridInsert快速创建SymbolforAltiumhttpwwwpcbbbscomforumphpmodviewthreadtid235162fromuid63313ding86361953发表于2011727091858好书推荐印制电路板PCB设计技术与实践httpwwwpcbbbscomforumphpmodviewthreadtid238247fromuid63313wanghanq发表于2012513155936给初学33答非所问杂乱汇总贴鱼渔提问的艺术httpwwwpcbbbscomforumphpmodviewthreadtid245988fromuid63313关联贴给初学31offgrid不值得困惑初学者的警告_中国印制电路行业排行榜httpwwwpcbbbscomforumphpmodviewthreadtid246905fromuid63313给初学32Altium经典视频教程Altium免费提供httpwwwpcbbbscomforumphpmodviewthreadtid245009fromuid63313altium视频地址再次补充说明如何使用多个监视器httpwwwpcbbbscomforumphpmodviewthreadtid260131fromuid63313给初学33答非所问杂乱汇总贴鱼渔提问的艺术httpwwwpcbbbscomforumphpmodviewthreadtid245988fromuid63313ProtelAltium文章观后感分享探讨汇总收集帖httpwwwpcbbbscomforumphpmodviewthreadtid256501fromuid63313转载比较完整的PROTEL最新版本ALTIUM上海培训资料共享_20120815_600Mhttpwwwpcbbbscomforumphpmodviewthreadtid256342fromuid63313**正确理解****器件****镀金****厚度****单位**μμm或uum迈mai谬miuhttpwwwpcbbbscomforumphpmodviewthreadtid256274fromuid63313分享3D库免费下载地址httpwwwpcbbbscomforumphpmodviewthreadtid217255fromuid63313zhengzy发表于20121023100351原创AltiumdesignerPCB画板速成教材httpwwwpcbbbscomforumphpmodviewthreadtid251712fromuid63313JIMDENG_eda365ZHENGZY是我AD10入门师傅也可以出版一本AD13实战攻略姐妹篇他那本ADPCB速成教材写得也很有水平一本很好的工具书关联帖子jimmy版主新书pads95实战攻略和高速pcb设计发布通告httpwwweda365comforumphpmodviewthreadtid92417fromuid4169liucongok发表于20121023170151推荐覆铜规则设置_适合初学者查看httpwwwpcbbbscomforumphpmodviewthreadtid251750fromuid63313黑驴蹄子发表于20121025165647上任第一天PCBLayout图文教程终结版AltiumcadencePADS图文教程httpwwwpcbbbscomforumphpmodviewthreadtid251814fromuid63313zhengzy发表于20121113200556含个人信息酌情考虑免费PCB设计QA检查服务httpwwwpcbbbscomforumphpmodviewthreadtid253990fromuid63313PCB布局走线的一点建议httpwwwpcbbbscomforumphpmodviewthreadtid259362fromuid63313zhengzy发表于2013326160428含个人信息酌情考虑原创整理Altium常用3D设计封装库httpwwwpcbbbscomforumphpmodviewthreadtid256009fromuid63313JenyXu发表于2013521184400含个人信息酌情考虑原创之AD教程专用贴陆续更新中httpwwwpcbbbscomforumphpmodviewthreadtid256773fromuid63313JenyXu发表于2013522225531含个人信息酌情考虑免费DFM可制造性检查申请专用贴httpwwwpcbbbscomforumphpmodviewthreadtid256791fromuid63313JenyXu发表于2013614213539楼主wanghanq置顶精华贴部分汇总按发布时间排序_20130922复制链接wanghanqwanghanq当前离线积分1713178兑换点点声望度金钱元银行存款元贡献度精华11楼主发表于2014831100821只看该作者pcbmarginright0备用备用回复使用道具举报checkmgcmnpost_2244142wanghanqwanghanq当前离线积分1713178兑换点点声望度金钱元银行存款元贡献度精华12楼主发表于2014831100938只看该作者备用备用72815创建于2013811varcpro_idu1342694回复使用道具举报checkmgcmnpost_2244143iscloncomiscloncom当前离线积分25兑换点点声望度金钱元银行存款元贡献度精华新手上路积分25距离下一级还需75积分13发表于2016223180639只看该作者好貼签名SolidWorks评分参与人数1金钱200兑换点5收起理由wanghanq2005查看全部评分好貼签名SolidWorkswanghanq2005找SMT工作就到SMT人才网回复支持反对使用道具举报checkmgcmnpost_2265044zds4468zds4468当前离线积分616兑换点点声望度金钱元银行存款元贡献度精华中级会员积分616距离下一级还需384积分14发表于2018123124321\n",
      "\n",
      "##### search result 1\n",
      "\n",
      "查看9604回复23AltiumDesignerprotel各版本故障随谈复制链接wanghanqwanghanq当前离线积分1713178兑换点点声望度金钱元银行存款元贡献度精华电梯直达1发表于2014514204219只看该作者倒序浏览阅读模式pcbmarginright0本帖最后由wanghanq于2014922041编辑此类话题的帖子开了又删删了又开比较纠结感觉一个随时可看到的bug或使用故障反馈的帖子还是有必要的对于使用上的问题大家可以随意发帖恶意言论要避免有知情的网友大可随意反馈懒的多写字的回复可直接回有或无都可很多的问题或许是个人操作或环境导致的使用故障所以在说明故障时最好能包含下面信息软件操作系统环境如XPWIN7AD软件版本方便的话给个含有故障的案例AltiumDesignerV69012759最后一个升级版本初学者也可以使用AltiumDesignerSummer9Build94020159最后一个升级版本初学者推荐版本AltiumDesigner10137727009最后一个升级版本AD10为开头的最后一个升级版本AD131210157027559试出过工程图AD132510181028368AD133410188128608最后一个升级版本设计洞察无效仅这个版本好似有这个现象AD14各版本未知感觉同等XP环境下明显慢于AD13XP下不再测试以上列表仅个人观点如有疑义请提出您的宝贵意见方便网友参考类似帖子给初学32Altium经典视频教程Altium免费提供httpwwwpcbbbscomforumphpmodviewthreadtid245009fromuid63313AD10很简单的PCB在走线的有时候会卡顿一下是怎么回事httpwwwpcbbbscomforumphpmodviewthreadtid266835fromuid63313Alitium各版本BUG随意说说httpwwwpcbbbscomforumphpmodviewthreadtid261786fromuid63313altium的版本很多每个版本都或多或少有些可容忍或可不容忍的问题此贴只是希望各位能将遇到的问题写出来我们不是altium官方bug的收集者只是希望给还在使用altium的网友一些参考也希望有些能被altium所接受如果我们按安装目录不同来区别大致有以下版本AD6AD9AD10AD13AD14这些版本中每个版本又会有很多升级版本序号通常会推荐大家使用各版本的最后一个升级版本序号但也不能保证最后一个升级版本序号会是BUG最少的版本序号比如AD13的最后一个升级版本AD133410188128608_设计洞察无效其前一个升级版本和后来的AD14就悄悄的恢复正常了再比如当前出现的AD14听网友反馈导出CAD图有问题暂时还未悄然恢复如果大家有分享的习惯再提到这些BUG时最好能描述清完整的版本号如上面的AD133410188128608必要时附上一个简单的和故障有关的小案例或许有网友能提示怎样规避这些BUG当然还有可能是操作原因导致的伪BUGtianchai_hot_style3margintop10pxwidth100clearbothtianchai_hot_style3atextdecorationnonecolor0088CCtianchai_hot_style3ahovertextdecorationunderlinetianchai_hot_style3aimgbordernonetianchai_hot_style3tdpfontfamilyLucidaGrandeGenevaVerdanaArialfontsize12pxtianchai_hot_style3left_boxfloatleftmargin5px02px8pxpadding0width48tianchai_hot_style3right_boxfloatleftmargin5px8px2px5pxpadding0width48tianchai_hot_style3lilineheight20px楼主新帖测试栏目图标仅临时用途虚谷掌控等国内定制功能版硬件基础教学开源课程基础框架参考HaiDIY测试版块说明致嘉立创及类似企业发帖建议楼主热帖**正确理解****器件****镀金****厚度****单位**μμm给初学33答非所问杂乱汇总贴鱼给初学32Altium经典视频教程Alti2012年6月更新18GAD10113324352_BT已完成CadenceSPB157License31dec本帖最后由wanghanq于2014922041编辑此类话题的帖子开了又删删了又开比较纠结感觉一个随时可看到的bug或使用故障反馈的帖子还是有必要的对于使用上的问题大家可以随意发帖恶意言论要避免有知情的网友大可随意反馈懒的多写字的回复可直接回有或无都可很多的问题或许是个人操作或环境导致的使用故障所以在说明故障时最好能包含下面信息软件操作系统环境如XPWIN7AD软件版本方便的话给个含有故障的案例AltiumDesignerV69012759最后一个升级版本初学者也可以使用AltiumDesignerSummer9Build94020159最后一个升级版本初学者推荐版本AltiumDesigner10137727009最后一个升级版本AD10为开头的最后一个升级版本AD131210157027559试出过工程图AD132510181028368AD133410188128608最后一个升级版本设计洞察无效仅这个版本好似有这个现象AD14各版本未知感觉同等XP环境下明显慢于AD13XP下不再测试以上列表仅个人观点如有疑义请提出您的宝贵意见方便网友参考类似帖子给初学32Altium经典视频教程Altium免费提供httpwwwpcbbbscomforumphpmodviewthreadtid245009fromuid63313AD10很简单的PCB在走线的有时候会卡顿一下是怎么回事httpwwwpcbbbscomforumphpmodviewthreadtid266835fromuid63313Alitium各版本BUG随意说说httpwwwpcbbbscomforumphpmodviewthreadtid261786fromuid63313altium的版本很多每个版本都或多或少有些可容忍或可不容忍的问题此贴只是希望各位能将遇到的问题写出来我们不是altium官方bug的收集者只是希望给还在使用altium的网友一些参考也希望有些能被altium所接受如果我们按安装目录不同来区别大致有以下版本AD6AD9AD10AD13AD14这些版本中每个版本又会有很多升级版本序号通常会推荐大家使用各版本的最后一个升级版本序号但也不能保证最后一个升级版本序号会是BUG最少的版本序号比如AD13的最后一个升级版本AD133410188128608_设计洞察无效其前一个升级版本和后来的AD14就悄悄的恢复正常了再比如当前出现的AD14听网友反馈导出CAD图有问题暂时还未悄然恢复如果大家有分享的习惯再提到这些BUG时最好能描述清完整的版本号如上面的AD133410188128608必要时附上一个简单的和故障有关的小案例或许有网友能提示怎样规避这些BUG当然还有可能是操作原因导致的伪BUG分享到QQ好友和群收藏1转播分享淘帖0支持0反对0回复使用道具举报checkmgcmnpost_2235203wanghanqwanghanq当前离线积分1713178兑换点点声望度金钱元银行存款元贡献度精华2楼主发表于2014514204433只看该作者备用位1备用位172815创建于2013811varcpro_idu1342694clemaclassfastrehrefforumphpmodpostampactionreplyampfid89amptid263936amprepquote2235204ampextrapage3D3amppage1onclickshowWindowreplythishref轛Yaaclassreplyaddhrefforumphpmodmiscampactionpostreviewampdosupportamptid263936amppid2235204amphash64109283onclickshowWindowloginthishrefonmouseoverthistitlereview_support_2235204innerHTMLreview_support_2235204innerHTML0篘ececspanidreview_support_2235204spanaaclassreplysubtracthrefforumphpmodmiscampactionpostreviewampdoagainstamptid263936amppid2235204amphash64109283onclickshowWindowloginthishrefonmouseoverthistitlereview_against_2235204innerHTMLreview_against_2235204innerHTML0篘蚐鵞蚐鵞spanidreview_against_2235204spanaempahrefjavascriptidmgc_post_2235204onmouseovershowMenuthisidclassshowmenuOuS恮QaahrefjavascriptonclickshowWindowmiscreport2235204miscphpmodreportrtypepostrid2235204tid263936楼主wanghanqAltiumDesignerprotel各版本故障随谈复制链接dianzi1987dianzi1987当前离线积分3743兑换点点声望度金钱元银行存款元贡献度精华金牌会员积分3743距离下一级还需1257积分11发表于2014718090404只看该作者pcbmarginright0已经更新了AD14版本的导出BOM缺少元件的问题详细见httpwwwpcbbbscomforumphpextrapage3D12楼请WH整理点评wanghanq浏览截图通过你的截图大致判断又是特殊字符惹的祸从几次的特殊字符惹祸之前是原理图库中软回车的惹祸基本可以判断出altium的软件工程师们的软件编程风格很不严谨导致特殊字符到处惹祸基于al详情回复发表于20147181857已经更新了AD14版本的导出BOM缺少元件的问题详细见httpwwwpcbbbscomforumphpextrapage3D12楼请WH整理回复支持反对使用道具举报checkmgcmnpost_2240902wanghanqwanghanq当前离线积分1713178兑换点点声望度金钱元银行存款元贡献度精华12楼主发表于2014718185701只看该作者dianzi1987发表于20147180904已经更新了AD14版本的导出BOM缺少元件的问题详细见httpwwwpcbbbscomforumphpmodviewthreadtid浏览截图通过你的截图大致判断又是特殊字符惹的祸从几次的特殊字符惹祸之前是原理图库中软回车的惹祸基本可以判断出altium的软件工程师们的软件编程风格很不严谨导致特殊字符到处惹祸基于altium的不稳定性我们要养成老老实实规规矩矩做事的风格1不乱用特殊字符老老实实规范自己的文档2不同软件之间不要转来转去altium的格式支持远没有你想象的那么到位这样的文档随时都有让你多掏冤枉钱的隐患3从现象再现上看这里其实就是字符猴头惹的祸去掉UniqueID末尾的字符后导出BOM就会正常了反之在**器件**ID末尾加上就可在BOM不出现这个**器件**也就是说一个规范的文档不是出现你这里所遇到的情况dianzi1987发表于20147180904已经更新了AD14版本的导出BOM缺少元件的问题详细见httpwwwpcbbbscomforumphpmodviewthreadtid浏览截图通过你的截图大致判断又是特殊字符惹的祸从几次的特殊字符惹祸之前是原理图库中软回车的惹祸基本可以判断出altium的软件工程师们的软件编程风格很不严谨导致特殊字符到处惹祸基于altium的不稳定性我们要养成老老实实规规矩矩做事的风格1不乱用特殊字符老老实实规范自己的文档2不同软件之间不要转来转去altium的格式支持远没有你想象的那么到位这样的文档随时都有让你多掏冤枉钱的隐患3从现象再现上看这里其实就是字符猴头惹的祸去掉UniqueID末尾的字符后导出BOM就会正常了反之在**器件**ID末尾加上就可在BOM不出现这个**器件**也就是说一个规范的文档不是出现你这里所遇到的情况找SMT工作就到SMT人才网回复支持反对使用道具举报checkmgcmnpost_2240979maxemrymaxemry当前离线积分1707兑换点点声望度金钱元银行存款元贡献度精华高级会员积分1707距离下一级还需1293积分13发表于201493113435只看该作者本帖最后由maxemry于2014931137编辑AD13的最后一个升级版本AD133410188128608_设计洞察是有效的本帖子中包含更多资源您需要登录才可以下载或查看没有帐号注册x评分参与人数1金钱200兑换点5收起理由wanghanq2005这次沟通可能更细化了下故障点__查看全部评分本帖最后由maxemry于2014931137编辑AD13的最后一个升级版本AD133410188128608_设计洞察是有效的wanghanq2005这次沟通可能更细化了下故障点__classa_pbahrefhttpwwwsmtjobcomtarget_blankb楼主wanghanqAltiumDesignerprotel各版本故障随谈复制链接cdk005cdk005当前离线积分48兑换点点声望度金钱元银行存款元贡献度精华新手上路积分48距离下一级还需52积分21发表于20141218224219只看该作者pcbmarginright0学习了学习了回复使用道具举报checkmgcmnpost_2251778shengushengu当前离线积分53兑换点点声望度金钱元银行存款元贡献度精华新手上路积分53距离下一级还需47积分22发表于2018716152248只看该作者AD16112版本原理图导出pdf格式时pdf文件的元**器件**右侧引脚名称会出现推挤到左侧对于双排针这种如图所示实际看IC的封装是右侧和上面的引脚名称会多出一些空格请问各位有无这种现象是否为软件的BUG本帖子中包含更多资源您需要登录才可以下载或查看没有帐号注册x点评wanghanq没有安装新版本无法确定问题点这类问题最好发一个sch案例文档这样方便网易辅助判断详情回复发表于20187220840AD16112版本原理图导出pdf格式时pdf文件的元**器件**右侧引脚名称会出现推挤到左侧对于双排针这种如图所示实际看IC的封装是右侧和上面的引脚名称会多出一些空格请问各位有无这种现象是否为软件的BUG找SMT工作就到SMT人才网回复支持反对使用道具举报checkmgcmnpost_2300705wanghanqwanghanq当前离线积分1713178兑换点点声望度金钱元银行存款元贡献度精华23楼主发表于2018722084017只看该作者shengu发表于20187161522AD16112版本原理图导出pdf格式时pdf文件的元**器件**右侧引脚名称会出现推挤到左侧对于双排针这种没有安装新版本无法确定问题点这类问题最好发一个sch案例文档这样方便网易辅助判断shengu发表于20187161522AD16112版本原理图导出pdf格式时pdf文件的元**器件**右侧引脚名称会出现推挤到左侧对于双排针这种没有安装新版本无法确定问题点这类问题最好发一个sch案例文档这样方便网易辅助判断72815创建于2013811varcpro_idu1342694回复支持反对使用道具举报checkmgcmnpost_2300763lassplsrowspan2dividfavatar2300764classplsfavataranamelastpostadivclasspidivclassauthiahrefhttphomepcbbbscomhomephpmodspaceampuid63313target_blankclassxw1wanghanqadivdivdivclassp_popblkbuicard_gender_iduserinfo2300764styledisplaynonemargintop11pxdivclassmzdividuserinfo2300764_madivdivdivclassiydivstrongahrefhttphomepcbbbscomhomephpmodspaceampuid63313target_blankclassxi2wanghanqastrongemS_MR粂縹emdivdlclasscldt飝Rdtddahrefhttphomepcbbbscomhomephpmodspaceuid63313doprofiletarget_blankclassxi21713178adddtQQbc筽dtdd筽dd\n",
      "\n",
      "##### search result 2\n",
      "\n",
      "查看4096回复13edaceo到底是怎样的一个论坛复制链接wanghanqwanghanq当前离线积分1713208兑换点点声望度金钱元银行存款元贡献度精华电梯直达1发表于20111227173834只看该作者倒序浏览阅读模式pcbmarginright0本帖最后由wanghanq于201212241157编辑反馈问题的同时又给它做了回免费广告同时提醒习惯用同样用户名和密码的网友如果您用同样的用户名及密码注册了这家论坛的话建议您尽快修改您的个人密码黑驴蹄子据我所知在同行电子论坛中eeworld论坛和edaceo论坛都是使用网络采集机器人大量精华帖子被抄袭其行为相当可憎关联内容edaceo神奇的论坛奇怪的pcbbbs论坛的管理现象httpwwwpcbbbscomforumphpmodviewthreadtid245250fromuid63313tianchai_hot_style3margintop10pxwidth100clearbothtianchai_hot_style3atextdecorationnonecolor0088CCtianchai_hot_style3ahovertextdecorationunderlinetianchai_hot_style3aimgbordernonetianchai_hot_style3tdpfontfamilyLucidaGrandeGenevaVerdanaArialfontsize12pxtianchai_hot_style3left_boxfloatleftmargin5px02px8pxpadding0width48tianchai_hot_style3right_boxfloatleftmargin5px8px2px5pxpadding0width48tianchai_hot_style3lilineheight20px楼主新帖测试栏目图标仅临时用途虚谷掌控等国内定制功能版硬件基础教学开源课程基础框架参考HaiDIY测试版块说明致嘉立创及类似企业发帖建议楼主热帖**正确理解****器件****镀金****厚度****单位**μμm给初学33答非所问杂乱汇总贴鱼给初学32Altium经典视频教程Alti2012年6月更新18GAD10113324352_BT已完成CadenceSPB157License31dec本帖子中包含更多资源您需要登录才可以下载或查看没有帐号注册x本帖最后由wanghanq于201212241157编辑反馈问题的同时又给它做了回免费广告同时提醒习惯用同样用户名和密码的网友如果您用同样的用户名及密码注册了这家论坛的话建议您尽快修改您的个人密码黑驴蹄子据我所知在同行电子论坛中eeworld论坛和edaceo论坛都是使用网络采集机器人大量精华帖子被抄袭其行为相当可憎关联内容edaceo神奇的论坛奇怪的pcbbbs论坛的管理现象httpwwwpcbbbscomforumphpmodviewthreadtid245250fromuid63313分享到QQ好友和群收藏0转播分享淘帖0支持0反对0回复使用道具举报checkmgcmnpost_2124220阿鸣阿鸣当前离线积分21800兑换点点声望度金钱元银行存款元贡献度精华2发表于20111227180220只看该作者同意楼主的观点大家访问这个论坛要注意已经在本论坛被封禁了10多个账号了还在孜孜不倦到处刷广告同意楼主的观点大家访问这个论坛要注意已经在本论坛被封禁了10多个账号了还在孜孜不倦到处刷广告72815创建于2013811varcpro_idu1342694回复支持反对使用道具举报checkmgcmnpost_2124221kensun7target_blankclassxi2kensunastrongemS_MR粂縹emdivdlclasscldt飝Rdtddahrefhttphomepcbbbscomhomephpmodspaceuid273997doprofiletarget_blankclassxi2609adddtQQbc筽dtdd筽dd楼主wanghanqedaceo到底是怎样的一个论坛复制链接umtkcpbbumtkcpbb当前离线积分199兑换点点声望度金钱元银行存款元贡献度精华初级会员积分199距离下一级还需301积分11发表于201287234257只看该作者pcbmarginright0要坐就做沙发要顶就顶精铁潘通色卡pantone色卡要坐就做沙发要顶就顶精铁潘通色卡pantone色卡回复支持反对使用道具举报checkmgcmnpost_2167635umtkcpbbumtkcpbb当前离线积分199兑换点点声望度金钱元银行存款元贡献度精华初级会员积分199距离下一级还需301积分12发表于2012810045119只看该作者我只看看不说话国际色卡国标色卡我只看看不说话国际色卡国标色卡72815创建于2013811varcpro_idu1342694回复支持反对使用道具举报checkmgcmnpost_2168000sdhsnuhksdhsnuhk当前离线积分114兑换点点声望度金钱元银行存款元贡献度精华初级会员积分114距离下一级还需386积分13发表于2012929205543只看该作者支持顶起来受教了支持支持brbrbrbrbrbrbrbrbrbrbrbrbrbrbrbrbrbrbrbrbrbrbrbr隔离霜顶起来受教了支持支持brbrbrbrbrbrbrbrbrbrbrbrbrbrbrbrbrbrbrbrbrbrbrbr隔离霜找SMT工作就到SMT人才网回复支持反对使用道具举报checkmgcmnpost_2176575sdhsnuhktphomepcbbbscomhomephpmodspaceampuid2298529target_blankclassxi2sdhsnuhkastrongemS_MR粂縹emdivdlclasscldt飝Rdtddahrefhttphomepcbbbscomhomephpmodspaceuid2298529doprofiletarget_blankclassxi2114adddtQQbc筽dtdd筽dd\n",
      "\n",
      "##### search result 3\n",
      "\n",
      "查看383回复1虚谷掌控等国内定制功能版硬件复制链接wanghanqwanghanq当前离线积分1713168兑换点点声望度金钱元银行存款元贡献度精华电梯直达1发表于2018119004725只看该作者倒序浏览阅读模式pcbmarginright0虚谷待补充虚谷作为一个中国本土开源硬件项目聚焦于人工智能教育和Python编程教学首先是因为大家对这款理想开源硬件的期望并不高技术门槛如microbit一样低性能和成本上至少要优于树莓派能够兼容大部分Arduino的项目mPython掌控是一块MicroPython微控制器板MicroPython旨在尽可能与普通Python兼容以便您轻松地将代码从桌面传输到微控制器或嵌入式系统mPython掌控板基础文档说明httpmpythonreadthedocsiozhlfromgroupmessgge案例1基础教程掌控mpython9照亮孩子们前行的路光控彩灯httpmcdfrobotcomcnforump9736extrapage3D2mixgohttpsgithubcomxbedmixgowwwbunnyzoocomBunnyZoo创极客乐园智能硬件学习平台集软件工具课程商城社区于一体BunnyTool快速编写硬件程序多种图形化方式支持支持众多**器件**模块简单方便易上手lDE集成开发环境IDEIntegratedDevelopmentEnvironment是用于提供程序开发环境的应用程序一般包括代码编辑器编译器调试器和图形用户界面等工具集成了代码编写功能分析功能编译功能调试功能等一体化的开发软件服务套所有具备这一特性的软件或者软件套组都可以叫集成开发环境如微软的VisualStudio系列Borland的CBuilderDelphi系列等该程序可以独立运行也可以和其它程序并用IDE多被用于开发HTML应用软件例如许多人在设计网站时使用IDE如HomeSiteDreamWeaver等因为很多项任务会自动生成IDE是集成开发环境IntegratedDevelopmentEnvironment缩写IDE是一种个编程软件是集成了程序员语言开发中会需要的一些基本工具基本环境和其他辅助功能的应用软件IDE一般包含三个主要组件源代码编辑器Editor编译器解释器CompilerInterpreter和调试器Debugger开发人员可以通过图形用户界面GUI访问这些组件并且实现整个代码编译调试和执行的过程现在的IDE也提供其他帮助程序员提供开发效率的一些高级辅助功能比如代码高亮代码补全和提示语法错误提示函数追踪断点调试等现在有大量的免费开源的和商用的IDEtianchai_hot_style3margintop10pxwidth100clearbothtianchai_hot_style3atextdecorationnonecolor0088CCtianchai_hot_style3ahovertextdecorationunderlinetianchai_hot_style3aimgbordernonetianchai_hot_style3tdpfontfamilyLucidaGrandeGenevaVerdanaArialfontsize12pxtianchai_hot_style3left_boxfloatleftmargin5px02px8pxpadding0width48tianchai_hot_style3right_boxfloatleftmargin5px8px2px5pxpadding0width48tianchai_hot_style3lilineheight20px楼主新帖测试栏目图标仅临时用途基础教学开源课程基础框架参考HaiDIY测试版块说明致嘉立创及类似企业发帖建议网站推荐今天无意中看到一个硬件设计相楼主热帖**正确理解****器件****镀金****厚度****单位**μμm给初学33答非所问杂乱汇总贴鱼给初学32Altium经典视频教程Alti2012年6月更新18GAD10113324352_BT已完成CadenceSPB157License31dec本帖子中包含更多资源您需要登录才可以下载或查看没有帐号注册x虚谷待补充虚谷作为一个中国本土开源硬件项目聚焦于人工智能教育和Python编程教学首先是因为大家对这款理想开源硬件的期望并不高技术门槛如microbit一样低性能和成本上至少要优于树莓派能够兼容大部分Arduino的项目mPython掌控是一块MicroPython微控制器板MicroPython旨在尽可能与普通Python兼容以便您轻松地将代码从桌面传输到微控制器或嵌入式系统mPython掌控板基础文档说明httpmpythonreadthedocsiozhlfromgroupmessgge案例1基础教程掌控mpython9照亮孩子们前行的路光控彩灯httpmcdfrobotcomcnforump9736extrapage3D2mixgohttpsgithubcomxbedmixgowwwbunnyzoocomBunnyZoo创极客乐园智能硬件学习平台集软件工具课程商城社区于一体BunnyTool快速编写硬件程序多种图形化方式支持支持众多**器件**模块简单方便易上手lDE集成开发环境IDEIntegratedDevelopmentEnvironment是用于提供程序开发环境的应用程序一般包括代码编辑器编译器调试器和图形用户界面等工具集成了代码编写功能分析功能编译功能调试功能等一体化的开发软件服务套所有具备这一特性的软件或者软件套组都可以叫集成开发环境如微软的VisualStudio系列Borland的CBuilderDelphi系列等该程序可以独立运行也可以和其它程序并用IDE多被用于开发HTML应用软件例如许多人在设计网站时使用IDE如HomeSiteDreamWeaver等因为很多项任务会自动生成IDE是集成开发环境IntegratedDevelopmentEnvironment缩写IDE是一种个编程软件是集成了程序员语言开发中会需要的一些基本工具基本环境和其他辅助功能的应用软件IDE一般包含三个主要组件源代码编辑器Editor编译器解释器CompilerInterpreter和调试器Debugger开发人员可以通过图形用户界面GUI访问这些组件并且实现整个代码编译调试和执行的过程现在的IDE也提供其他帮助程序员提供开发效率的一些高级辅助功能比如代码高亮代码补全和提示语法错误提示函数追踪断点调试等现在有大量的免费开源的和商用的IDE分享到QQ好友和群收藏0转播分享淘帖0支持0反对0回复使用道具举报checkmgcmnpost_2302302wanghanqwanghanq当前离线积分1713168兑换点点声望度金钱元银行存款元贡献度精华2楼主发表于2018119012131只看该作者库的WINDOWS系统文件管理方式WINDOWS7引入库的概念并非传统意义上的用来存放用户文件的文件夹它还具备了方便用户在计算机中快速查找到所需文件的作用在WindowsXP时代文件管理的主要形式是以用户的个人意愿用文件夹的形式作为基础分类进行存放然后再按照文件类型进行细化但随着文件数量和种类的增多加上用户行为的不确定性原有的文件管理方式往往会造成文件存储混乱重复文件多等情况已经无法满足用户的实际需求而在Windows7以下简称Win7中由于引进了库文件管理更方便可以把本地或局域网中的文件添加到库把文件收藏起来简单地讲文件库可以将我们需要的文件和文件夹统统集中到一起就如同网页收藏夹一样只要单击库中的链接就能快速打开添加到库中的文件夹而不管它们原来深藏在本地电脑或局域网当中的任何位置另外它们都会随着原始文件夹的变化而自动更新并且可以以同名的形式存在于文件库中存储库storagelibrary是诸如磁带或唱片这里类物理存储媒体及其访问方式比如磁带库包含磁带盒和驱动它们进出驱动器的的机械装置它们存储的内容在这里读取和更新数据库datalibrary是数据中心存储媒体文档的区域在线服务提供商有时候也提供作为数据库的服务器上可下载的文件的目录异同我们可以看到库好像跟传统的文件夹比较相像确实从某个角度来讲库跟文件夹确实有很多相似的地方如跟文件夹一样在库中也可以包含各种各样的子库与文件等等但是其本质上跟文件夹有很大的不同在文件夹中保存的文件或者子文件夹都是存储在同一个地方的而在库中存储的文件则可以来自于五湖四海如可以在来自于用户电脑上的关联文件或者来自于移动磁盘上的文件这个差异虽然比较细小但确是传统文件夹与库之间的最本质的差异库的WINDOWS系统文件管理方式WINDOWS7引入库的概念并非传统意义上的用来存放用户文件的文件夹它还具备了方便用户在计算机中快速查找到所需文件的作用在WindowsXP时代文件管理的主要形式是以用户的个人意愿用文件夹的形式作为基础分类进行存放然后再按照文件类型进行细化但随着文件数量和种类的增多加上用户行为的不确定性原有的文件管理方式往往会造成文件存储混乱重复文件多等情况已经无法满足用户的实际需求而在Windows7以下简称Win7中由于引进了库文件管理更方便可以把本地或局域网中的文件添加到库把文件收藏起来简单地讲文件库可以将我们需要的文件和文件夹统统集中到一起就如同网页收藏夹一样只要单击库中的链接就能快速打开添加到库中的文件夹而不管它们原来深藏在本地电脑或局域网当中的任何位置另外它们都会随着原始文件夹的变化而自动更新并且可以以同名的形式存在于文件库中存储库storagelibrary是诸如磁带或唱片这里类物理存储媒体及其访问方式比如磁带库包含磁带盒和驱动它们进出驱动器的的机械装置它们存储的内容在这里读取和更新数据库datalibrary是数据中心存储媒体文档的区域在线服务提供商有时候也提供作为数据库的服务器上可下载的文件的目录异同我们可以看到库好像跟传统的文件夹比较相像确实从某个角度来讲库跟文件夹确实有很多相似的地方如跟文件夹一样在库中也可以包含各种各样的子库与文件等等但是其本质上跟文件夹有很大的不同在文件夹中保存的文件或者子文件夹都是存储在同一个地方的而在库中存储的文件则可以来自于五湖四海如可以在来自于用户电脑上的关联文件或者来自于移动磁盘上的文件这个差异虽然比较细小但确是传统文件夹与库之间的最本质的差异\n",
      "\n",
      "##### search result 4\n",
      "\n",
      "查看22638回复66转载比较完整的PROTEL最新版本ALTIUM上海培训资料共享_20120815_600M复制链接wanghanqwanghanq当前离线积分1713178兑换点点声望度金钱元银行存款元贡献度精华电梯直达1发表于2013417232608只看该作者倒序浏览阅读模式pcbmarginright0欣赏这些不用登录就能下载的论坛上面的这个附件也可在下面论坛不用登录免费下载下面的地址顺序以此次搜寻次序排列使用AltiumDesigner进行高性能PCB设计资料汇集庞展发消息201209072024httpbbs21dianyuancom127116htmlPROTEL最新版本ALTIUM上海培训资料共享yydylily2发消息201208151211httpbbs21dianyuancom102056htmlaltium组织了去上海的培训培训持续了三天有幸参加下面将培训的教程和培训的资料共享给大家非常感谢楼主的贡献迅雷下载所有链接只选php格式的全部下来不会手软这也太牛了吧小心侵权呀不过还的顶支持楼主原厂也支持楼主因为楼主给他们宣传了126楼yydylily2本网技师267发消息201208151951你分享我分享大家一起来分享闭门造车是不会进步的回复126楼241楼了空和尚助理工程师310发消息201211251835钓鱼执法不应该是中国人的专利其实人家AD公司等着你侵权呢如果大家觉得资料很好不妨去感谢感谢资料分享的网友此贴作为给初学33答非所问杂乱汇总贴鱼渔提问的艺术httpwwwpcbbbscomforumphpmodviewthreadtid245988fromuid63313结业帖帖头提醒学习者擅用搜索引擎如果把网络比作驴使用网络的比作骑驴人骑驴人可否从驴身上下来不去演绎古老的骑驴找驴行为此贴中列出的官网提供的海量的免费资料含视频下面网友共享的培训资料软件安装自带的帮助文档以及热心网友探讨等内容应该可以解决初学时遇到的多数问题总骑在驴上的不妨下来走走锻炼锻炼身体上海培训资料tianchai_hot_style3margintop10pxwidth100clearbothtianchai_hot_style3atextdecorationnonecolor0088CCtianchai_hot_style3ahovertextdecorationunderlinetianchai_hot_style3aimgbordernonetianchai_hot_style3tdpfontfamilyLucidaGrandeGenevaVerdanaArialfontsize12pxtianchai_hot_style3left_boxfloatleftmargin5px02px8pxpadding0width48tianchai_hot_style3right_boxfloatleftmargin5px8px2px5pxpadding0width48tianchai_hot_style3lilineheight20px楼主新帖测试栏目图标仅临时用途虚谷掌控等国内定制功能版硬件基础教学开源课程基础框架参考HaiDIY测试版块说明致嘉立创及类似企业发帖建议楼主热帖**正确理解****器件****镀金****厚度****单位**μμm给初学33答非所问杂乱汇总贴鱼给初学32Altium经典视频教程Alti2012年6月更新18GAD10113324352_BT已完成CadenceSPB157License31dec评分参与人数1金钱10收起理由PCB123456丶10查看全部评分欣赏这些不用登录就能下载的论坛上面的这个附件也可在下面论坛不用登录免费下载下面的地址顺序以此次搜寻次序排列使用AltiumDesigner进行高性能PCB设计资料汇集庞展发消息201209072024httpbbs21dianyuancom127116htmlPROTEL最新版本ALTIUM上海培训资料共享yydylily2发消息201208151211httpbbs21dianyuancom102056htmlaltium组织了去上海的培训培训持续了三天有幸参加下面将培训的教程和培训的资料共享给大家非常感谢楼主的贡献迅雷下载所有链接只选php格式的全部下来不会手软这也太牛了吧小心侵权呀不过还的顶支持楼主原厂也支持楼主因为楼主给他们宣传了126楼yydylily2本网技师267发消息201208151951你分享我分享大家一起来分享闭门造车是不会进步的回复126楼241楼了空和尚助理工程师310发消息201211251835钓鱼执法不应该是中国人的专利其实人家AD公司等着你侵权呢如果大家觉得资料很好不妨去感谢感谢资料分享的网友此贴作为给初学33答非所问杂乱汇总贴鱼渔提问的艺术httpwwwpcbbbscomforumphpmodviewthreadtid245988fromuid63313结业帖帖头提醒学习者擅用搜索引擎如果把网络比作驴使用网络的比作骑驴人骑驴人可否从驴身上下来不去演绎古老的骑驴找驴行为此贴中列出的官网提供的海量的免费资料含视频下面网友共享的培训资料软件安装自带的帮助文档以及热心网友探讨等内容应该可以解决初学时遇到的多数问题总骑在驴上的不妨下来走走锻炼锻炼身体PCB123456丶10分享到QQ好友和群收藏12转播分享淘帖0支持3反对0相关帖子谁有MMLH45F芯片资料谁有基于AD的信号完整性分析产生的波形的分析资料么资料分享我也来分享一些资料于博士信号完整性揭秘有资料需要外发处理的请联系我FPC正规工厂品质工艺管理资料要的说一声转帖班门弄斧汇总贴有关阻抗的一些资料以及交流ed汇总正规外资大厂IPQC管理资料FPC难得一见的求卷对卷曝光机作业规范或说明资料求卷对卷曝光机作业规范或说明资料机型不限谢谢华笙EZGRID想做大板材资料有高手有办法解决吗回复使用道具举报checkmgcmnpost_2194135ardivclasspidivclassauthiahrefhttphomepcbbbscomhomephpmodspaceampuid2309901target_blankclassxw1CS鯯癚沑adivdivdivclassp_popblkbuicard_gender_iduserinfo2194176styledisplaynonemargintop11pxdivclassmzdividuserinfo2194176_madivdivdivclassiydivstrongahrefhttphomepcbbbscomhomephpmodspaceampuid2309901target_blankclassxi2CS鯯癚沑astrongemS_MR粂縹emdivdlclasscldt飝Rdtddahrefhttphomepcbbbscomhomephpmodspaceuid2309901doprofiletarget_blankclassxi211adddtQQbc筽dtdd筽dd楼主wanghanq转载比较完整的PROTEL最新版本ALTIUM上海培训资料共享_20120815_600M复制链接zrzkmlgzrzkmlg当前离线积分13兑换点点声望度金钱元银行存款元贡献度精华新手上路积分13距离下一级还需87积分11发表于2013520211954只看该作者pcbmarginright0先顶起来再说评分参与人数1金钱200收起理由wanghanq200参与查看全部评分先顶起来再说wanghanq200参与回复支持反对使用道具举报checkmgcmnpost_2196514ks02756ks02756当前离线积分27兑换点点声望度金钱元银行存款元贡献度精华新手上路积分27距离下一级还需73积分12发表于201368165433只看该作者楼主咱崇拜呢评分参与人数1金钱200收起理由wanghanq200客气了等着看网页们更适宜的资料查看全部评分楼主咱崇拜呢wanghanq200客气了等着看网页们更适宜的资料找SMT工作就到SMT人才网回复支持反对使用道具举报checkmgcmnpost_2197997GIRAFFEGIRAFFE当前离线积分1030兑换点点声望度金钱元银行存款元贡献度精华高级会员积分1030距离下一级还需1970积分13发表于201368221220只看该作者楼主太厉害了支持应该给加精评分参与人数1金钱200楼主太厉害了支持应该给加精楼主wanghanq转载比较完整的PROTEL最新版本ALTIUM上海培训资料共享_20120815_600M复制链接集成电路集成电路当前离线积分10兑换点点声望度金钱元银行存款元贡献度精华新手上路积分10距离下一级还需90积分21发表于2013819230830只看该作者pcbmarginright0楼主好人啊楼主好人啊回复支持反对使用道具举报checkmgcmnpost_2204839凝心99凝心99当前离线积分1640兑换点点声望度金钱元银行存款元贡献度精华高级会员积分1640距离下一级还需1360积分22发表于2013821163147只看该作者好东西继续学习好东西继续学习72815创建于2013811varcpro_idu1342694回复支持反对使用道具举报checkmgcmnpost_2205064strongwind312strongwind312当前离线积分366兑换点点声望度金钱元银行存款元贡献度精华初级会员积分366距离下一级还需134积分23发表于2013825163136只看该作者谢谢楼主分享谢谢楼主分享72815创建于2013811varcpro_idu1342694回复支持反对使用道具举报checkmgcmnpost_2205521凝心99凝心99当前离线积分1640兑换点点声望度dddt褢睌dtddCQdddt鰯L圶kdtddCQdd楼主wanghanq转载比较完整的PROTEL最新版本ALTIUM上海培训资料共享_20120815_600M复制链接rapido88rapido88当前离线积分8兑换点点声望度金钱元银行存款元贡献度精华新手上路积分8距离下一级还需92积分31发表于2013912144910只看该作者pcbmarginright0膜拜太强大了膜拜太强大了回复支持反对使用道具举报checkmgcmnpost_2207517whycxywhycxy当前离线积分6兑换点点声望度金钱元银行存款元贡献度精华新手上路积分6距离下一级还需94积分32发表于2013117192902只看该作者非常不错学习学习非常不错学习学习72815创建于2013811varcpro_idu1342694回复支持反对使用道具举报checkmgcmnpost_2213385babybcnbabybcn当前离线积分155兑换点点声望度金钱元银行存款元贡献度精华初级会员积分155距离下一级还需345积分33发表于20131213165635只看该作者楼主太伟大了狂顶点评wanghanq资料提供者精神可嘉发表于201312132014评分参与人数1金钱200收起理由wanghanq200查看全部评分楼主太伟大了狂顶wanghanq200找SMT工作就到SMT人才网回复支持反对mouseovershowMenuthisidclassshowmenuOuS恮QaahrefjavascriptonclickshowWindowmiscreport2217838miscphpmodreportrtypepostrid2217838tid256342楼主wanghanq转载比较完整的PROTEL最新版本ALTIUM上海培训资料共享_20120815_600M复制链接危险城堡危险城堡当前离线积分3兑换点点声望度金钱元银行存款元贡献度精华新手上路积分3距离下一级还需97积分41发表于2014630123721只看该作者pcbmarginright0感谢楼主的分享感谢楼主的分享回复支持反对使用道具举报checkmgcmnpost_2238838lhkkg21lhkkg21当前离线积分8兑换点点声望度金钱元银行存款元贡献度精华新手上路积分8距离下一级还需92积分42发表于20141217094129只看该作者楼主真心好人先谢过楼主真心好人先谢过72815创建于2013811varcpro_idu1342694回复支持反对使用道具举报checkmgcmnpost_2251650wodermawoderma当前离线积分43兑换点点声望度金钱元银行存款元贡献度精华新手上路积分43距离下一级还需57积分43发表于20141224204525只看该作者thankyouverymuchthankyouverymuch72815创建于2013811varcpro_idu1342694回复支持反对使用道具举报checkmgcmnpost_2252044zys0797zys0797当前离线积分7兑换点点声望度金钱元银行存款元贡献度精华tiptip_4styledisplaynonedivclasstip_horndiv\n",
      "\n"
     ]
    }
   ],
   "source": [
    "with open('../data/output/sz_result2.md') as fi:\n",
    "    for i in range(10):\n",
    "        print(fi.readline())"
   ]
  },
  {
   "cell_type": "code",
   "execution_count": null,
   "metadata": {},
   "outputs": [],
   "source": []
  }
 ],
 "metadata": {
  "kernelspec": {
   "display_name": "Python 3",
   "language": "python",
   "name": "python3"
  },
  "language_info": {
   "codemirror_mode": {
    "name": "ipython",
    "version": 3
   },
   "file_extension": ".py",
   "mimetype": "text/x-python",
   "name": "python",
   "nbconvert_exporter": "python",
   "pygments_lexer": "ipython3",
   "version": "3.6.5"
  },
  "toc": {
   "base_numbering": 1,
   "nav_menu": {},
   "number_sections": true,
   "sideBar": true,
   "skip_h1_title": false,
   "title_cell": "Table of Contents",
   "title_sidebar": "Contents",
   "toc_cell": false,
   "toc_position": {},
   "toc_section_display": true,
   "toc_window_display": true
  },
  "varInspector": {
   "cols": {
    "lenName": 16,
    "lenType": 16,
    "lenVar": 40
   },
   "kernels_config": {
    "python": {
     "delete_cmd_postfix": "",
     "delete_cmd_prefix": "del ",
     "library": "var_list.py",
     "varRefreshCmd": "print(var_dic_list())"
    },
    "r": {
     "delete_cmd_postfix": ") ",
     "delete_cmd_prefix": "rm(",
     "library": "var_list.r",
     "varRefreshCmd": "cat(var_dic_list()) "
    }
   },
   "types_to_exclude": [
    "module",
    "function",
    "builtin_function_or_method",
    "instance",
    "_Feature"
   ],
   "window_display": false
  }
 },
 "nbformat": 4,
 "nbformat_minor": 1
}
