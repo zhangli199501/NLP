{
 "cells": [
  {
   "cell_type": "code",
   "execution_count": 10,
   "metadata": {},
   "outputs": [],
   "source": [
    "import xgboost as xgb\n",
    "import pickle\n",
    "import pandas as pd\n",
    "\n",
    "from sklearn.linear_model import LogisticRegression\n",
    "from sklearn.svm import LinearSVC\n",
    "from sklearn.naive_bayes import GaussianNB\n",
    "from sklearn.neighbors import KNeighborsClassifier\n",
    "import warnings\n",
    "\n",
    "from sklearn.cross_validation import train_test_split\n",
    "from sklearn.metrics import f1_score\n",
    "from sklearn.metrics import roc_auc_score\n",
    "\n",
    "warnings.filterwarnings(\"ignore\")"
   ]
  },
  {
   "cell_type": "markdown",
   "metadata": {},
   "source": [
    "# 抽样"
   ]
  },
  {
   "cell_type": "code",
   "execution_count": 2,
   "metadata": {},
   "outputs": [],
   "source": [
    "# 有放回采样，选8000个样本\n",
    "def sampling_with_return(data): \n",
    "    seq = np.random.choice(range(len(data)), size=5000, replace=True)\n",
    "    return data.iloc[seq,:]\n",
    "\n",
    "# 分层，从数据中选取正负标签各8000个样本，其中70%用作训练，30%用作测试\n",
    "def layer_sampling(data):\n",
    "    data_0, data_1 = data[data['label'] == 0], data[data['label'] == 1]\n",
    "    data = pd.concat((sampling_with_return(data_0), sampling_with_return(data_1)))\n",
    "    features = data.drop('label',axis=1)\n",
    "    labels = data['label']\n",
    "    return train_test_split(features, labels, test_size=0.3)"
   ]
  },
  {
   "cell_type": "markdown",
   "metadata": {},
   "source": [
    "# 训练模型、进行评估"
   ]
  },
  {
   "cell_type": "code",
   "execution_count": 12,
   "metadata": {},
   "outputs": [],
   "source": [
    "def model_metrics(clf, data, n=10):\n",
    "    accuracy = 0\n",
    "    f1 = 0\n",
    "    auc = 0\n",
    "    for i in range(n):\n",
    "        X_train, X_test, y_train, y_test =  layer_sampling(data)\n",
    "        model = clf.fit(X_train, y_train)\n",
    "        y_hat = model.predict(X_test)\n",
    "        accuracy += 1 - sum(abs(y_test-y_hat))/len(y_test)\n",
    "        f1 += f1_score(y_test, y_hat)\n",
    "        auc += roc_auc_score(y_test, y_hat)\n",
    "    return {'accuracy':accuracy/n, 'f1-score':f1/n, 'auc':auc/n}"
   ]
  },
  {
   "cell_type": "code",
   "execution_count": 3,
   "metadata": {},
   "outputs": [],
   "source": [
    "model_LR = LogisticRegression()\n",
    "model_SVC = LinearSVC()\n",
    "model_NB = GaussianNB()\n",
    "model_KNN = KNeighborsClassifier()\n",
    "model_XGB = xgb.XGBClassifier()\n",
    "clfs = {'model_LR':model_LR,'model_SVC': model_SVC,'model_NB' :model_NB, 'model_KNN':model_KNN, 'model_XGB':model_XGB}"
   ]
  },
  {
   "cell_type": "code",
   "execution_count": 8,
   "metadata": {},
   "outputs": [],
   "source": [
    "data = pickle.load(open( 'temp_file//data_processing.pkl','rb'))\n",
    "train_data = data.drop(labels='content',axis=1)"
   ]
  },
  {
   "cell_type": "code",
   "execution_count": 13,
   "metadata": {},
   "outputs": [
    {
     "name": "stdout",
     "output_type": "stream",
     "text": [
      "model_LR:{'accuracy': 0.9667000000000001, 'f1-score': 0.9660815651856387, 'auc': 0.9666126968717157}\n",
      "model_SVC:{'accuracy': 0.9667666666666669, 'f1-score': 0.9664617642109746, 'auc': 0.9668393291348242}\n",
      "model_NB:{'accuracy': 0.8293333333333333, 'f1-score': 0.8105969651705417, 'auc': 0.8295971367318904}\n",
      "model_KNN:{'accuracy': 0.9349000000000002, 'f1-score': 0.9328347023309451, 'auc': 0.9348996315903808}\n",
      "model_XGB:{'accuracy': 0.9492333333333333, 'f1-score': 0.9471691976384763, 'auc': 0.9488688165584991}\n"
     ]
    }
   ],
   "source": [
    "for clf in clfs:\n",
    "    print('{}:{}'.format(clf, model_metrics(clfs[clf] ,train_data)))"
   ]
  },
  {
   "cell_type": "code",
   "execution_count": null,
   "metadata": {},
   "outputs": [],
   "source": []
  }
 ],
 "metadata": {
  "kernelspec": {
   "display_name": "Python 3",
   "language": "python",
   "name": "python3"
  },
  "language_info": {
   "codemirror_mode": {
    "name": "ipython",
    "version": 3
   },
   "file_extension": ".py",
   "mimetype": "text/x-python",
   "name": "python",
   "nbconvert_exporter": "python",
   "pygments_lexer": "ipython3",
   "version": "3.6.5"
  },
  "toc": {
   "base_numbering": 1,
   "nav_menu": {},
   "number_sections": true,
   "sideBar": true,
   "skip_h1_title": false,
   "title_cell": "Table of Contents",
   "title_sidebar": "Contents",
   "toc_cell": false,
   "toc_position": {},
   "toc_section_display": true,
   "toc_window_display": false
  },
  "varInspector": {
   "cols": {
    "lenName": 16,
    "lenType": 16,
    "lenVar": 40
   },
   "kernels_config": {
    "python": {
     "delete_cmd_postfix": "",
     "delete_cmd_prefix": "del ",
     "library": "var_list.py",
     "varRefreshCmd": "print(var_dic_list())"
    },
    "r": {
     "delete_cmd_postfix": ") ",
     "delete_cmd_prefix": "rm(",
     "library": "var_list.r",
     "varRefreshCmd": "cat(var_dic_list()) "
    }
   },
   "types_to_exclude": [
    "module",
    "function",
    "builtin_function_or_method",
    "instance",
    "_Feature"
   ],
   "window_display": false
  }
 },
 "nbformat": 4,
 "nbformat_minor": 2
}
