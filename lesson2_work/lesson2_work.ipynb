{
 "cells": [
  {
   "cell_type": "markdown",
   "metadata": {},
   "source": [
    "# 导入数据"
   ]
  },
  {
   "cell_type": "code",
   "execution_count": 1,
   "metadata": {},
   "outputs": [
    {
     "name": "stdout",
     "output_type": "stream",
     "text": [
      " 驱动器 D 中的卷是 Work\n",
      " 卷的序列号是 8CE5-3771\n",
      "\n",
      " D:\\zhangli\\Jupyter\\自然语言处理\\lesson2 的目录\n",
      "\n",
      "2018/11/21  13:16    <DIR>          .\n",
      "2018/11/21  13:16    <DIR>          ..\n",
      "2018/11/21  13:16    <DIR>          .ipynb_checkpoints\n",
      "2018/11/20  16:15    <DIR>          extracted\n",
      "2018/11/19  09:50         8,046,785 lesson01-Part02.pdf\n",
      "2018/11/21  13:16                72 lesson2_rework.ipynb\n",
      "2018/11/21  12:51            33,129 lesson2_work.ipynb\n",
      "2018/11/19  16:51            91,003 NLP Lunch Tutorial Smoothing.pdf\n",
      "2018/11/20  18:09           139,554 The Good-Turing Estimate.pdf\n",
      "2018/11/20  16:09           116,197 WikiExtractor.py\n",
      "2018/11/20  16:10       272,417,714 zhwiki-20181101-pages-meta-history6.xml-p6186220p6348368.bz2\n",
      "2018/11/19  09:43            48,783 第二课作业.pdf\n",
      "               8 个文件    280,893,237 字节\n",
      "               4 个目录 94,355,271,680 可用字节\n"
     ]
    }
   ],
   "source": [
    "ls"
   ]
  },
  {
   "cell_type": "code",
   "execution_count": 7,
   "metadata": {},
   "outputs": [],
   "source": [
    "all_content = open('extracted\\\\AA\\\\zh_wiki_00_std',encoding='utf8').read()"
   ]
  },
  {
   "cell_type": "code",
   "execution_count": 13,
   "metadata": {},
   "outputs": [],
   "source": [
    "import re\n",
    "def tokenize(string):\n",
    "    return ''.join(re.findall('\\w|\\d',string))"
   ]
  },
  {
   "cell_type": "code",
   "execution_count": 14,
   "metadata": {},
   "outputs": [],
   "source": [
    "ALL_CHARACTER = tokenize(all_content)"
   ]
  },
  {
   "cell_type": "code",
   "execution_count": 16,
   "metadata": {},
   "outputs": [],
   "source": [
    "from collections import Counter"
   ]
  },
  {
   "cell_type": "code",
   "execution_count": 17,
   "metadata": {},
   "outputs": [],
   "source": [
    "# 字符串转Counter，次数统计\n",
    "all_character_counts = Counter(ALL_CHARACTER)"
   ]
  },
  {
   "cell_type": "code",
   "execution_count": 21,
   "metadata": {},
   "outputs": [],
   "source": [
    "# 字符出现次数最多，最大次数\n",
    "M = all_character_counts.most_common()[0][1]"
   ]
  },
  {
   "cell_type": "code",
   "execution_count": 24,
   "metadata": {},
   "outputs": [],
   "source": [
    "import matplotlib.pyplot as plt"
   ]
  },
  {
   "cell_type": "code",
   "execution_count": 29,
   "metadata": {},
   "outputs": [
    {
     "data": {
      "image/png": "[encoded data removed]",
      "text/plain": [
       "<Figure size 432x288 with 1 Axes>"
      ]
     },
     "metadata": {
      "needs_background": "light"
     },
     "output_type": "display_data"
    }
   ],
   "source": [
    "plt.xscale('log'),plt.yscale('log')\n",
    "plt.plot([count for (word,count) in all_character_counts.most_common()])\n",
    "plt.plot([M/i for i in range(1,len(all_character_counts)+1)])\n",
    "plt.show()"
   ]
  },
  {
   "cell_type": "markdown",
   "metadata": {},
   "source": [
    "# 概率计算"
   ]
  },
  {
   "cell_type": "code",
   "execution_count": 34,
   "metadata": {},
   "outputs": [
    {
     "data": {
      "text/plain": [
       "3134160"
      ]
     },
     "execution_count": 34,
     "metadata": {},
     "output_type": "execute_result"
    }
   ],
   "source": [
    "all_character_counts['的']"
   ]
  },
  {
   "cell_type": "code",
   "execution_count": 37,
   "metadata": {},
   "outputs": [],
   "source": [
    "def get_probability_from_counts(counter):\n",
    "    all_occurences = sum(counter.values())\n",
    "\n",
    "    def get_prob(char):\n",
    "        return counter[char] / all_occurences\n",
    "\n",
    "    return get_prob\n",
    "\n",
    "\n",
    "get_char_prob = get_probability_from_counts(all_character_counts)"
   ]
  },
  {
   "cell_type": "code",
   "execution_count": 38,
   "metadata": {},
   "outputs": [
    {
     "data": {
      "text/plain": [
       "0.024660361773115702"
      ]
     },
     "execution_count": 38,
     "metadata": {},
     "output_type": "execute_result"
    }
   ],
   "source": [
    "get_char_prob('的')"
   ]
  },
  {
   "cell_type": "code",
   "execution_count": 42,
   "metadata": {},
   "outputs": [
    {
     "name": "stdout",
     "output_type": "stream",
     "text": [
      "get_prob used time is 0.0\n"
     ]
    }
   ],
   "source": [
    "# 测试函数执行时间\n",
    "import time\n",
    "def func_running_time(func, args, times):\n",
    "    start_time = time.time()\n",
    "    for _ in range(times):\n",
    "        func(args)\n",
    "    end_time = time.time()\n",
    "    print('{} used time is {}'.format(func.__name__, end_time-start_time))\n",
    "\n",
    "func_running_time(get_char_prob, '的', 1000)"
   ]
  },
  {
   "cell_type": "code",
   "execution_count": 52,
   "metadata": {},
   "outputs": [],
   "source": [
    "from functools import reduce\n",
    "from operator import mul,add"
   ]
  },
  {
   "cell_type": "code",
   "execution_count": 53,
   "metadata": {},
   "outputs": [],
   "source": [
    "# 计算多个字符串组合出现的概率\n",
    "def prob_of_string(string):\n",
    "    return reduce(mul, [get_char_prob(char) for char in string])"
   ]
  },
  {
   "cell_type": "code",
   "execution_count": 45,
   "metadata": {},
   "outputs": [],
   "source": [
    "pair = \"\"\"前天晚上吃晚饭的时候\n",
    "前天晚上吃早饭的时候\"\"\".split('\\n')\n",
    "\n",
    "pair2 = \"\"\"正是一个好看的小猫\n",
    "真是一个好看的小猫\"\"\".split('\\n')\n",
    "\n",
    "pair3 = \"\"\"我无言以对，简直\n",
    "我简直无言以对\"\"\".split('\\n')"
   ]
  },
  {
   "cell_type": "code",
   "execution_count": 81,
   "metadata": {},
   "outputs": [],
   "source": [
    "def get_probability_prefromance(language_model_func,pairs):\n",
    "    for string, string2 in pairs:\n",
    "        print('*' * 10)\n",
    "        print('\\t\\t {} with probability {}'.format(string,\n",
    "                                                   language_model_func(tokenize(string))))\n",
    "        print('\\t\\t {} with probability {}'.format(string2,\n",
    "                                                   language_model_func(tokenize(string2))))"
   ]
  },
  {
   "cell_type": "code",
   "execution_count": 82,
   "metadata": {},
   "outputs": [
    {
     "name": "stdout",
     "output_type": "stream",
     "text": [
      "**********\n",
      "\t\t 前天晚上吃晚饭的时候 with probability 8.771038831322834e-32\n",
      "\t\t 前天晚上吃早饭的时候 with probability 9.250258946794701e-32\n",
      "**********\n",
      "\t\t 正是一个好看的小猫 with probability 1.9852577935766478e-26\n",
      "\t\t 真是一个好看的小猫 with probability 8.11619237895417e-27\n",
      "**********\n",
      "\t\t 我无言以对，简直 with probability 1.8501983245042487e-22\n",
      "\t\t 我简直无言以对 with probability 1.8501983245042484e-22\n"
     ]
    }
   ],
   "source": [
    "pairs = [pair, pair2, pair3]\n",
    "get_probability_prefromance(prob_of_string,pairs)"
   ]
  },
  {
   "cell_type": "markdown",
   "metadata": {},
   "source": [
    "# 2_Gram"
   ]
  },
  {
   "cell_type": "code",
   "execution_count": 76,
   "metadata": {},
   "outputs": [],
   "source": [
    "def character_counts(string, n_gram=1):\n",
    "#     字符串和划分长度，返回每个词的计数\n",
    "    return Counter(string[i:i+n_gram] for i in range(len(string)-n_gram+1))\n",
    "\n",
    "two_gram_counts = character_counts(ALL_CHARACTER, 2)\n",
    "\n",
    "get_pair_prob = get_probability_from_counts(two_gram_counts)\n",
    "\n",
    "def get_2_gram_prob(word, prev):\n",
    "    if get_pair_prob(word+prev)>0:\n",
    "        return get_pair_prob(word+prev)/get_char_prob(prev)\n",
    "    else:\n",
    "        return get_char_prob(word)"
   ]
  },
  {
   "cell_type": "code",
   "execution_count": 79,
   "metadata": {},
   "outputs": [],
   "source": [
    "def get_2_gram_string_prob(string):\n",
    "    probabilities = []\n",
    "    for i in range(len(string)):\n",
    "        if i==0:\n",
    "            probabilities.append(get_2_gram_prob(string[i],'<s>'))\n",
    "        else:\n",
    "            probabilities.append(get_2_gram_prob(string[i],string[i-1]))\n",
    "    return reduce(mul,probabilities)"
   ]
  },
  {
   "cell_type": "code",
   "execution_count": 84,
   "metadata": {},
   "outputs": [
    {
     "name": "stdout",
     "output_type": "stream",
     "text": [
      "**********\n",
      "\t\t 前天晚上吃晚饭的时候 with probability 8.771038831322834e-32\n",
      "\t\t 前天晚上吃早饭的时候 with probability 9.250258946794701e-32\n",
      "**********\n",
      "\t\t 正是一个好看的小猫 with probability 1.9852577935766478e-26\n",
      "\t\t 真是一个好看的小猫 with probability 8.11619237895417e-27\n",
      "**********\n",
      "\t\t 我无言以对，简直 with probability 1.8501983245042487e-22\n",
      "\t\t 我简直无言以对 with probability 1.8501983245042484e-22\n"
     ]
    }
   ],
   "source": [
    "get_probability_prefromance(prob_of_string, pairs)"
   ]
  },
  {
   "cell_type": "code",
   "execution_count": 83,
   "metadata": {},
   "outputs": [
    {
     "name": "stdout",
     "output_type": "stream",
     "text": [
      "**********\n",
      "\t\t 前天晚上吃晚饭的时候 with probability 9.694973440754624e-35\n",
      "\t\t 前天晚上吃早饭的时候 with probability 4.488234883839959e-34\n",
      "**********\n",
      "\t\t 正是一个好看的小猫 with probability 2.0701207554908554e-28\n",
      "\t\t 真是一个好看的小猫 with probability 2.2562826939342776e-28\n",
      "**********\n",
      "\t\t 我无言以对，简直 with probability 1.3516963793194327e-23\n",
      "\t\t 我简直无言以对 with probability 1.1054576787190485e-22\n"
     ]
    }
   ],
   "source": [
    "get_probability_prefromance(get_2_gram_string_prob,pairs)"
   ]
  },
  {
   "cell_type": "code",
   "execution_count": null,
   "metadata": {},
   "outputs": [],
   "source": []
  }
 ],
 "metadata": {
  "kernelspec": {
   "display_name": "Python 3",
   "language": "python",
   "name": "python3"
  },
  "language_info": {
   "codemirror_mode": {
    "name": "ipython",
    "version": 3
   },
   "file_extension": ".py",
   "mimetype": "text/x-python",
   "name": "python",
   "nbconvert_exporter": "python",
   "pygments_lexer": "ipython3",
   "version": "3.7.0"
  },
  "toc": {
   "base_numbering": 1,
   "nav_menu": {},
   "number_sections": true,
   "sideBar": true,
   "skip_h1_title": false,
   "title_cell": "Table of Contents",
   "title_sidebar": "Contents",
   "toc_cell": false,
   "toc_position": {},
   "toc_section_display": true,
   "toc_window_display": true
  }
 },
 "nbformat": 4,
 "nbformat_minor": 2
}
